{
 "cells": [
  {
   "cell_type": "markdown",
   "metadata": {},
   "source": [
    "# Predicting Grades for Semester 2 of Second Year\n",
    "\n",
    "In this project I try to figure out which assignments I am likely to find more difficult based on previous results.\n",
    "And which ones I am likely to do well in.\n",
    "I have an intuition that the computer science, stats and pratical assignments are easier than the psychology and written ones. But let's see if this is the case.\n",
    "\n",
    "The dataset includes the following features:\n",
    "- 'ModuleCode': the identifier code for the module\n",
    "- 'ModuleName': the name of the module\n",
    "- 'ModuleType': the field the assessment belongs to (computer science, psychology etc)\n",
    "- 'AssessmentName': the name of the assessment\n",
    "- 'DueDate': the date and time the assessment was due\n",
    "- 'AssessmentType': whether the assessment was an exam or continuous assessment\n",
    "- 'SubmissionType': what activity the assessment primarily consisted of (written, programming etc)\n",
    "- 'Score': The grade achieve for the assessment\n",
    "- 'CreditsWeight': the weight of the assessment for the modules overall score (100 marks is equal to a 5 credit module)\n",
    "- 'Submitted': the time the assessment was submitted online"
   ]
  },
  {
   "cell_type": "code",
   "execution_count": 686,
   "metadata": {},
   "outputs": [],
   "source": [
    "import pandas as pd"
   ]
  },
  {
   "cell_type": "code",
   "execution_count": 687,
   "metadata": {},
   "outputs": [],
   "source": [
    "grades = pd.read_csv(\"grades.csv\", sep=\"\\t\", encoding=\"unicode-escape\")"
   ]
  },
  {
   "cell_type": "code",
   "execution_count": 688,
   "metadata": {},
   "outputs": [
    {
     "name": "stdout",
     "output_type": "stream",
     "text": [
      "Systems Organisation\n",
      "Human Centred Computing\n",
      "Introduction to Programming & Problem-Solving\n",
      "Relational Databases\n",
      "User Experience Design\n",
      "Research Methods in Psychology I\n",
      "People & Technology\n",
      "Research Design & Statistical Analysis\n",
      "Neuroscience, Attention & Perception\n",
      "Social Psychology\n",
      "Web Development\n",
      "Intermediate Programming & Problem-Solving I\n",
      "Experimental Design and Statistical Applications II\n",
      "Psychology of Childhood and Adolescence\n",
      "Applied Cognition\n",
      "Research Methods in Psychology II\n",
      "16 modules\n"
     ]
    }
   ],
   "source": [
    "unique_modules = grades['ModuleName'].unique()\n",
    "for module in unique_modules:\n",
    "    print(module)\n",
    "    \n",
    "print(len(unique_modules), 'modules') # should be 17"
   ]
  },
  {
   "cell_type": "markdown",
   "metadata": {},
   "source": [
    "I missed a module when I was inputting the data to the excel sheet. Let me just fix that quick"
   ]
  },
  {
   "cell_type": "code",
   "execution_count": 689,
   "metadata": {},
   "outputs": [],
   "source": [
    "missing_module = pd.DataFrame([\n",
    "    [\"CS2512\",\"Authoring\",\"Computer Science\",\"Assignment 1\",\"13 Nov 2021 23:30\",\"CA\",\"Written\",77,30,\"13 Nov 2021 19:56\"],\n",
    "[\"CS2512\",\"Authoring\",\"Computer Science\",\"Assignment 2\",\"27 Nov 2021 23:30\",\"CA\",\"Programming\",83,35,\"26 Nov 2021 12:02\"],\n",
    "[\"CS2512\",\"Authoring\",\"Computer Science\",\"Assignment 3\",\"5 Dec 2021 23:30\",\"CA\",\"Programming\",71,35,\"28 Nov 2021 16:35\",]\n",
    "], columns=[\"ModuleCode\",\"ModuleName\",\"ModuleType\",\"AssessmentName\",\"DueDate\",\"AssessmentType\",\"SubmissionType\",\"Score\",\"CreditsWeight\",\"Submitted\"])"
   ]
  },
  {
   "cell_type": "code",
   "execution_count": 690,
   "metadata": {},
   "outputs": [
    {
     "data": {
      "text/html": [
       "<div>\n",
       "<style scoped>\n",
       "    .dataframe tbody tr th:only-of-type {\n",
       "        vertical-align: middle;\n",
       "    }\n",
       "\n",
       "    .dataframe tbody tr th {\n",
       "        vertical-align: top;\n",
       "    }\n",
       "\n",
       "    .dataframe thead th {\n",
       "        text-align: right;\n",
       "    }\n",
       "</style>\n",
       "<table border=\"1\" class=\"dataframe\">\n",
       "  <thead>\n",
       "    <tr style=\"text-align: right;\">\n",
       "      <th></th>\n",
       "      <th>ModuleCode</th>\n",
       "      <th>ModuleName</th>\n",
       "      <th>ModuleType</th>\n",
       "      <th>AssessmentName</th>\n",
       "      <th>DueDate</th>\n",
       "      <th>AssessmentType</th>\n",
       "      <th>SubmissionType</th>\n",
       "      <th>Score</th>\n",
       "      <th>CreditsWeight</th>\n",
       "      <th>Submitted</th>\n",
       "    </tr>\n",
       "  </thead>\n",
       "  <tbody>\n",
       "    <tr>\n",
       "      <th>0</th>\n",
       "      <td>CS2512</td>\n",
       "      <td>Authoring</td>\n",
       "      <td>Computer Science</td>\n",
       "      <td>Assignment 1</td>\n",
       "      <td>13 Nov 2021 23:30</td>\n",
       "      <td>CA</td>\n",
       "      <td>Written</td>\n",
       "      <td>77</td>\n",
       "      <td>30</td>\n",
       "      <td>13 Nov 2021 19:56</td>\n",
       "    </tr>\n",
       "    <tr>\n",
       "      <th>1</th>\n",
       "      <td>CS2512</td>\n",
       "      <td>Authoring</td>\n",
       "      <td>Computer Science</td>\n",
       "      <td>Assignment 2</td>\n",
       "      <td>27 Nov 2021 23:30</td>\n",
       "      <td>CA</td>\n",
       "      <td>Programming</td>\n",
       "      <td>83</td>\n",
       "      <td>35</td>\n",
       "      <td>26 Nov 2021 12:02</td>\n",
       "    </tr>\n",
       "    <tr>\n",
       "      <th>2</th>\n",
       "      <td>CS2512</td>\n",
       "      <td>Authoring</td>\n",
       "      <td>Computer Science</td>\n",
       "      <td>Assignment 3</td>\n",
       "      <td>5 Dec 2021 23:30</td>\n",
       "      <td>CA</td>\n",
       "      <td>Programming</td>\n",
       "      <td>71</td>\n",
       "      <td>35</td>\n",
       "      <td>28 Nov 2021 16:35</td>\n",
       "    </tr>\n",
       "  </tbody>\n",
       "</table>\n",
       "</div>"
      ],
      "text/plain": [
       "  ModuleCode ModuleName        ModuleType AssessmentName            DueDate  \\\n",
       "0     CS2512  Authoring  Computer Science   Assignment 1  13 Nov 2021 23:30   \n",
       "1     CS2512  Authoring  Computer Science   Assignment 2  27 Nov 2021 23:30   \n",
       "2     CS2512  Authoring  Computer Science   Assignment 3   5 Dec 2021 23:30   \n",
       "\n",
       "  AssessmentType SubmissionType  Score  CreditsWeight          Submitted  \n",
       "0             CA        Written     77             30  13 Nov 2021 19:56  \n",
       "1             CA    Programming     83             35  26 Nov 2021 12:02  \n",
       "2             CA    Programming     71             35  28 Nov 2021 16:35  "
      ]
     },
     "execution_count": 690,
     "metadata": {},
     "output_type": "execute_result"
    }
   ],
   "source": [
    "missing_module"
   ]
  },
  {
   "cell_type": "code",
   "execution_count": 691,
   "metadata": {},
   "outputs": [],
   "source": [
    "grades = pd.concat([grades, missing_module], ignore_index=True, axis=\"index\")"
   ]
  },
  {
   "cell_type": "code",
   "execution_count": 692,
   "metadata": {},
   "outputs": [
    {
     "data": {
      "text/html": [
       "<div>\n",
       "<style scoped>\n",
       "    .dataframe tbody tr th:only-of-type {\n",
       "        vertical-align: middle;\n",
       "    }\n",
       "\n",
       "    .dataframe tbody tr th {\n",
       "        vertical-align: top;\n",
       "    }\n",
       "\n",
       "    .dataframe thead th {\n",
       "        text-align: right;\n",
       "    }\n",
       "</style>\n",
       "<table border=\"1\" class=\"dataframe\">\n",
       "  <thead>\n",
       "    <tr style=\"text-align: right;\">\n",
       "      <th></th>\n",
       "      <th>ModuleCode</th>\n",
       "      <th>ModuleName</th>\n",
       "      <th>ModuleType</th>\n",
       "      <th>AssessmentName</th>\n",
       "      <th>DueDate</th>\n",
       "      <th>AssessmentType</th>\n",
       "      <th>SubmissionType</th>\n",
       "      <th>Score</th>\n",
       "      <th>CreditsWeight</th>\n",
       "      <th>Submitted</th>\n",
       "      <th>Comments</th>\n",
       "    </tr>\n",
       "  </thead>\n",
       "  <tbody>\n",
       "    <tr>\n",
       "      <th>52</th>\n",
       "      <td>AP2044</td>\n",
       "      <td>Applied Cognition</td>\n",
       "      <td>Psychology</td>\n",
       "      <td>Written Exam</td>\n",
       "      <td>15 Dec 2021 by 18:36</td>\n",
       "      <td>Exam</td>\n",
       "      <td>Written</td>\n",
       "      <td>65</td>\n",
       "      <td>100</td>\n",
       "      <td>15 Dec 2021 at 18:02</td>\n",
       "      <td>NaN</td>\n",
       "    </tr>\n",
       "    <tr>\n",
       "      <th>53</th>\n",
       "      <td>AP2114</td>\n",
       "      <td>Research Methods in Psychology II</td>\n",
       "      <td>Psychology</td>\n",
       "      <td>Assignment 1: Thematic Analysis</td>\n",
       "      <td>12/10/2021 11:00</td>\n",
       "      <td>CA</td>\n",
       "      <td>Written</td>\n",
       "      <td>68</td>\n",
       "      <td>50</td>\n",
       "      <td>12/10/2021 07:30</td>\n",
       "      <td>NaN</td>\n",
       "    </tr>\n",
       "    <tr>\n",
       "      <th>54</th>\n",
       "      <td>CS2512</td>\n",
       "      <td>Authoring</td>\n",
       "      <td>Computer Science</td>\n",
       "      <td>Assignment 1</td>\n",
       "      <td>13 Nov 2021 23:30</td>\n",
       "      <td>CA</td>\n",
       "      <td>Written</td>\n",
       "      <td>77</td>\n",
       "      <td>30</td>\n",
       "      <td>13 Nov 2021 19:56</td>\n",
       "      <td>NaN</td>\n",
       "    </tr>\n",
       "    <tr>\n",
       "      <th>55</th>\n",
       "      <td>CS2512</td>\n",
       "      <td>Authoring</td>\n",
       "      <td>Computer Science</td>\n",
       "      <td>Assignment 2</td>\n",
       "      <td>27 Nov 2021 23:30</td>\n",
       "      <td>CA</td>\n",
       "      <td>Programming</td>\n",
       "      <td>83</td>\n",
       "      <td>35</td>\n",
       "      <td>26 Nov 2021 12:02</td>\n",
       "      <td>NaN</td>\n",
       "    </tr>\n",
       "    <tr>\n",
       "      <th>56</th>\n",
       "      <td>CS2512</td>\n",
       "      <td>Authoring</td>\n",
       "      <td>Computer Science</td>\n",
       "      <td>Assignment 3</td>\n",
       "      <td>5 Dec 2021 23:30</td>\n",
       "      <td>CA</td>\n",
       "      <td>Programming</td>\n",
       "      <td>71</td>\n",
       "      <td>35</td>\n",
       "      <td>28 Nov 2021 16:35</td>\n",
       "      <td>NaN</td>\n",
       "    </tr>\n",
       "  </tbody>\n",
       "</table>\n",
       "</div>"
      ],
      "text/plain": [
       "   ModuleCode                         ModuleName        ModuleType  \\\n",
       "52     AP2044                  Applied Cognition        Psychology   \n",
       "53     AP2114  Research Methods in Psychology II        Psychology   \n",
       "54     CS2512                          Authoring  Computer Science   \n",
       "55     CS2512                          Authoring  Computer Science   \n",
       "56     CS2512                          Authoring  Computer Science   \n",
       "\n",
       "                     AssessmentName               DueDate AssessmentType  \\\n",
       "52                     Written Exam  15 Dec 2021 by 18:36           Exam   \n",
       "53  Assignment 1: Thematic Analysis      12/10/2021 11:00             CA   \n",
       "54                     Assignment 1     13 Nov 2021 23:30             CA   \n",
       "55                     Assignment 2     27 Nov 2021 23:30             CA   \n",
       "56                     Assignment 3      5 Dec 2021 23:30             CA   \n",
       "\n",
       "   SubmissionType  Score  CreditsWeight             Submitted Comments  \n",
       "52        Written     65            100  15 Dec 2021 at 18:02      NaN  \n",
       "53        Written     68             50      12/10/2021 07:30      NaN  \n",
       "54        Written     77             30     13 Nov 2021 19:56      NaN  \n",
       "55    Programming     83             35     26 Nov 2021 12:02      NaN  \n",
       "56    Programming     71             35     28 Nov 2021 16:35      NaN  "
      ]
     },
     "execution_count": 692,
     "metadata": {},
     "output_type": "execute_result"
    }
   ],
   "source": [
    "grades.tail(5)"
   ]
  },
  {
   "cell_type": "markdown",
   "metadata": {},
   "source": [
    "Everything is looking good so far. Notice the different time formats. Let's deal with that!"
   ]
  },
  {
   "cell_type": "code",
   "execution_count": 693,
   "metadata": {},
   "outputs": [],
   "source": [
    "from datetime import datetime"
   ]
  },
  {
   "cell_type": "code",
   "execution_count": 694,
   "metadata": {
    "scrolled": true
   },
   "outputs": [
    {
     "name": "stdout",
     "output_type": "stream",
     "text": [
      "[]\n"
     ]
    }
   ],
   "source": [
    "date_formats = (\"%d %b %Y by %H:%S\", \"%d %b %Y at %H:%S\", \"%d/%m/%Y %H:%S\", \"%d %b %Y %H:%S\")\n",
    "issues = []\n",
    "def parse(date):\n",
    "    for date_format in date_formats:\n",
    "        try:\n",
    "            return datetime.strptime(date, date_format).strftime(\"%d/%m/%Y %H:%S\")\n",
    "        except ValueError:\n",
    "            issues.append(date)\n",
    "    \n",
    "print(issues)\n",
    "\n",
    "grades[\"DueDate\"] = grades[\"DueDate\"].apply(lambda date: parse(date))"
   ]
  },
  {
   "cell_type": "code",
   "execution_count": 695,
   "metadata": {},
   "outputs": [],
   "source": [
    "grades[\"DueDate\"] = pd.to_datetime(grades[\"DueDate\"], dayfirst=True)\n",
    "grades[\"Submitted\"] = pd.to_datetime(grades[\"Submitted\"], dayfirst=True)"
   ]
  },
  {
   "cell_type": "markdown",
   "metadata": {},
   "source": [
    "Let's sort the assignments by the time they were submitted"
   ]
  },
  {
   "cell_type": "code",
   "execution_count": 696,
   "metadata": {},
   "outputs": [],
   "source": [
    "grades = grades.sort_values(\"Submitted\")"
   ]
  },
  {
   "cell_type": "code",
   "execution_count": 697,
   "metadata": {},
   "outputs": [
    {
     "data": {
      "text/html": [
       "<div>\n",
       "<style scoped>\n",
       "    .dataframe tbody tr th:only-of-type {\n",
       "        vertical-align: middle;\n",
       "    }\n",
       "\n",
       "    .dataframe tbody tr th {\n",
       "        vertical-align: top;\n",
       "    }\n",
       "\n",
       "    .dataframe thead th {\n",
       "        text-align: right;\n",
       "    }\n",
       "</style>\n",
       "<table border=\"1\" class=\"dataframe\">\n",
       "  <thead>\n",
       "    <tr style=\"text-align: right;\">\n",
       "      <th></th>\n",
       "      <th>ModuleCode</th>\n",
       "      <th>ModuleName</th>\n",
       "      <th>ModuleType</th>\n",
       "      <th>AssessmentName</th>\n",
       "      <th>DueDate</th>\n",
       "      <th>AssessmentType</th>\n",
       "      <th>SubmissionType</th>\n",
       "      <th>Score</th>\n",
       "      <th>CreditsWeight</th>\n",
       "      <th>Submitted</th>\n",
       "      <th>Comments</th>\n",
       "    </tr>\n",
       "  </thead>\n",
       "  <tbody>\n",
       "    <tr>\n",
       "      <th>14</th>\n",
       "      <td>CS1021</td>\n",
       "      <td>Relational Databases</td>\n",
       "      <td>Computer Science</td>\n",
       "      <td>Lab Assignment 1</td>\n",
       "      <td>2020-10-23 23:59:00</td>\n",
       "      <td>CA</td>\n",
       "      <td>Programming</td>\n",
       "      <td>83</td>\n",
       "      <td>6</td>\n",
       "      <td>2020-10-19 16:20:00</td>\n",
       "      <td>NaN</td>\n",
       "    </tr>\n",
       "    <tr>\n",
       "      <th>22</th>\n",
       "      <td>AP1104</td>\n",
       "      <td>Research Methods in Psychology I</td>\n",
       "      <td>Psychology</td>\n",
       "      <td>Prac 1 Research Paper Worksheet</td>\n",
       "      <td>2020-11-09 18:00:00</td>\n",
       "      <td>CA</td>\n",
       "      <td>Written</td>\n",
       "      <td>70</td>\n",
       "      <td>10</td>\n",
       "      <td>2020-10-31 08:41:00</td>\n",
       "      <td>NaN</td>\n",
       "    </tr>\n",
       "    <tr>\n",
       "      <th>0</th>\n",
       "      <td>CS1111</td>\n",
       "      <td>Systems Organisation</td>\n",
       "      <td>Computer Science</td>\n",
       "      <td>Assessment 1 - Overview Material Questions</td>\n",
       "      <td>2020-11-08 23:59:00</td>\n",
       "      <td>CA</td>\n",
       "      <td>Written</td>\n",
       "      <td>100</td>\n",
       "      <td>10</td>\n",
       "      <td>2020-11-07 08:50:00</td>\n",
       "      <td>NaN</td>\n",
       "    </tr>\n",
       "    <tr>\n",
       "      <th>32</th>\n",
       "      <td>AP1040</td>\n",
       "      <td>Research Design &amp; Statistical Analysis</td>\n",
       "      <td>Statistics</td>\n",
       "      <td>Assignment 1</td>\n",
       "      <td>2020-11-09 11:00:00</td>\n",
       "      <td>CA</td>\n",
       "      <td>Written</td>\n",
       "      <td>87</td>\n",
       "      <td>10</td>\n",
       "      <td>2020-11-08 08:29:00</td>\n",
       "      <td>NaN</td>\n",
       "    </tr>\n",
       "    <tr>\n",
       "      <th>15</th>\n",
       "      <td>CS1021</td>\n",
       "      <td>Relational Databases</td>\n",
       "      <td>Computer Science</td>\n",
       "      <td>Lab Assignment 2</td>\n",
       "      <td>2020-11-14 23:59:00</td>\n",
       "      <td>CA</td>\n",
       "      <td>Programming</td>\n",
       "      <td>83</td>\n",
       "      <td>6</td>\n",
       "      <td>2020-11-08 13:24:00</td>\n",
       "      <td>NaN</td>\n",
       "    </tr>\n",
       "  </tbody>\n",
       "</table>\n",
       "</div>"
      ],
      "text/plain": [
       "   ModuleCode                              ModuleName        ModuleType  \\\n",
       "14     CS1021                    Relational Databases  Computer Science   \n",
       "22     AP1104        Research Methods in Psychology I        Psychology   \n",
       "0      CS1111                    Systems Organisation  Computer Science   \n",
       "32     AP1040  Research Design & Statistical Analysis        Statistics   \n",
       "15     CS1021                    Relational Databases  Computer Science   \n",
       "\n",
       "                                AssessmentName             DueDate  \\\n",
       "14                            Lab Assignment 1 2020-10-23 23:59:00   \n",
       "22             Prac 1 Research Paper Worksheet 2020-11-09 18:00:00   \n",
       "0   Assessment 1 - Overview Material Questions 2020-11-08 23:59:00   \n",
       "32                                Assignment 1 2020-11-09 11:00:00   \n",
       "15                            Lab Assignment 2 2020-11-14 23:59:00   \n",
       "\n",
       "   AssessmentType SubmissionType  Score  CreditsWeight           Submitted  \\\n",
       "14             CA    Programming     83              6 2020-10-19 16:20:00   \n",
       "22             CA        Written     70             10 2020-10-31 08:41:00   \n",
       "0              CA        Written    100             10 2020-11-07 08:50:00   \n",
       "32             CA        Written     87             10 2020-11-08 08:29:00   \n",
       "15             CA    Programming     83              6 2020-11-08 13:24:00   \n",
       "\n",
       "   Comments  \n",
       "14      NaN  \n",
       "22      NaN  \n",
       "0       NaN  \n",
       "32      NaN  \n",
       "15      NaN  "
      ]
     },
     "execution_count": 697,
     "metadata": {},
     "output_type": "execute_result"
    }
   ],
   "source": [
    "grades.head()"
   ]
  },
  {
   "cell_type": "markdown",
   "metadata": {},
   "source": [
    "# Exploratory Analysis\n",
    "\n",
    "I want to find my average score overall\n",
    "but getting the mean of the scores doesn't account for the fact that the assignments are worth different amounts of credit"
   ]
  },
  {
   "cell_type": "code",
   "execution_count": 698,
   "metadata": {},
   "outputs": [
    {
     "data": {
      "text/plain": [
       "82.72"
      ]
     },
     "execution_count": 698,
     "metadata": {},
     "output_type": "execute_result"
    }
   ],
   "source": [
    "round(grades['Score'].mean(),2) # credits * score / credits = total % # what was my average % for the course"
   ]
  },
  {
   "cell_type": "markdown",
   "metadata": {},
   "source": [
    "so the 82% is inflated. Fortunately the CreditsWeight column lets us deal with that."
   ]
  },
  {
   "cell_type": "code",
   "execution_count": 699,
   "metadata": {},
   "outputs": [
    {
     "data": {
      "text/plain": [
       "78.0"
      ]
     },
     "execution_count": 699,
     "metadata": {},
     "output_type": "execute_result"
    }
   ],
   "source": [
    "grades[\"NumberCreditsEarned\"] = grades[\"CreditsWeight\"] * (grades[\"Score\"] / 100)\n",
    "round(grades[\"NumberCreditsEarned\"].sum() / grades[\"CreditsWeight\"].sum(),2) * 100 # average score across the whole course for the 3 semesters"
   ]
  },
  {
   "cell_type": "markdown",
   "metadata": {},
   "source": [
    "78% is not bad at all. \n",
    "\n",
    "If we look at the median, we see the distribution is negatively skewed."
   ]
  },
  {
   "cell_type": "code",
   "execution_count": 700,
   "metadata": {},
   "outputs": [
    {
     "data": {
      "text/plain": [
       "84.0"
      ]
     },
     "execution_count": 700,
     "metadata": {},
     "output_type": "execute_result"
    }
   ],
   "source": [
    "grades['Score'].median()"
   ]
  },
  {
   "cell_type": "code",
   "execution_count": 701,
   "metadata": {},
   "outputs": [
    {
     "data": {
      "text/plain": [
       "<AxesSubplot:ylabel='Density'>"
      ]
     },
     "execution_count": 701,
     "metadata": {},
     "output_type": "execute_result"
    },
    {
     "data": {
      "image/png": "[encoded data removed]",
      "text/plain": [
       "<Figure size 432x288 with 1 Axes>"
      ]
     },
     "metadata": {},
     "output_type": "display_data"
    }
   ],
   "source": [
    "grades[\"Score\"].sort_values().plot(kind=\"kde\") # color by module type, max 100"
   ]
  },
  {
   "cell_type": "markdown",
   "metadata": {},
   "source": [
    "Okay, I want to see if we can shift that distribution even more to the right by focusing on my weakest points.\n",
    "Let's see what my 10 worst grades have been so far."
   ]
  },
  {
   "cell_type": "code",
   "execution_count": 702,
   "metadata": {},
   "outputs": [],
   "source": [
    "worst_grades = grades[\"Score\"].nsmallest(10).index"
   ]
  },
  {
   "cell_type": "code",
   "execution_count": 703,
   "metadata": {},
   "outputs": [
    {
     "data": {
      "text/html": [
       "<div>\n",
       "<style scoped>\n",
       "    .dataframe tbody tr th:only-of-type {\n",
       "        vertical-align: middle;\n",
       "    }\n",
       "\n",
       "    .dataframe tbody tr th {\n",
       "        vertical-align: top;\n",
       "    }\n",
       "\n",
       "    .dataframe thead th {\n",
       "        text-align: right;\n",
       "    }\n",
       "</style>\n",
       "<table border=\"1\" class=\"dataframe\">\n",
       "  <thead>\n",
       "    <tr style=\"text-align: right;\">\n",
       "      <th></th>\n",
       "      <th>ModuleCode</th>\n",
       "      <th>ModuleName</th>\n",
       "      <th>ModuleType</th>\n",
       "      <th>AssessmentName</th>\n",
       "      <th>DueDate</th>\n",
       "      <th>AssessmentType</th>\n",
       "      <th>SubmissionType</th>\n",
       "      <th>Score</th>\n",
       "      <th>CreditsWeight</th>\n",
       "      <th>Submitted</th>\n",
       "      <th>Comments</th>\n",
       "      <th>NumberCreditsEarned</th>\n",
       "    </tr>\n",
       "  </thead>\n",
       "  <tbody>\n",
       "    <tr>\n",
       "      <th>44</th>\n",
       "      <td>CS2012</td>\n",
       "      <td>Web Development</td>\n",
       "      <td>Computer Science</td>\n",
       "      <td>Class Test</td>\n",
       "      <td>2021-12-03 11:30:00</td>\n",
       "      <td>Exam</td>\n",
       "      <td>Quiz</td>\n",
       "      <td>45</td>\n",
       "      <td>25</td>\n",
       "      <td>2021-12-03 10:16:00</td>\n",
       "      <td>NaN</td>\n",
       "      <td>11.25</td>\n",
       "    </tr>\n",
       "    <tr>\n",
       "      <th>6</th>\n",
       "      <td>CS1111</td>\n",
       "      <td>Systems Organisation</td>\n",
       "      <td>Computer Science</td>\n",
       "      <td>Class Test</td>\n",
       "      <td>2020-12-17 16:00:00</td>\n",
       "      <td>Exam</td>\n",
       "      <td>Written</td>\n",
       "      <td>50</td>\n",
       "      <td>40</td>\n",
       "      <td>2020-12-17 15:44:00</td>\n",
       "      <td>NaN</td>\n",
       "      <td>20.00</td>\n",
       "    </tr>\n",
       "    <tr>\n",
       "      <th>38</th>\n",
       "      <td>AP1035</td>\n",
       "      <td>Neuroscience, Attention &amp; Perception</td>\n",
       "      <td>Psychology</td>\n",
       "      <td>Essay 1</td>\n",
       "      <td>2021-05-04 18:00:00</td>\n",
       "      <td>CA</td>\n",
       "      <td>Written</td>\n",
       "      <td>52</td>\n",
       "      <td>50</td>\n",
       "      <td>2021-05-04 12:21:00</td>\n",
       "      <td>NaN</td>\n",
       "      <td>26.00</td>\n",
       "    </tr>\n",
       "    <tr>\n",
       "      <th>40</th>\n",
       "      <td>AP1022</td>\n",
       "      <td>Social Psychology</td>\n",
       "      <td>Psychology</td>\n",
       "      <td>Essay</td>\n",
       "      <td>2021-04-30 15:00:00</td>\n",
       "      <td>CA</td>\n",
       "      <td>Written</td>\n",
       "      <td>62</td>\n",
       "      <td>100</td>\n",
       "      <td>2021-04-30 10:32:00</td>\n",
       "      <td>NaN</td>\n",
       "      <td>62.00</td>\n",
       "    </tr>\n",
       "    <tr>\n",
       "      <th>39</th>\n",
       "      <td>AP1035</td>\n",
       "      <td>Neuroscience, Attention &amp; Perception</td>\n",
       "      <td>Psychology</td>\n",
       "      <td>Essay 2</td>\n",
       "      <td>2021-05-04 18:00:00</td>\n",
       "      <td>CA</td>\n",
       "      <td>Written</td>\n",
       "      <td>62</td>\n",
       "      <td>50</td>\n",
       "      <td>2021-05-04 12:21:00</td>\n",
       "      <td>NaN</td>\n",
       "      <td>31.00</td>\n",
       "    </tr>\n",
       "    <tr>\n",
       "      <th>52</th>\n",
       "      <td>AP2044</td>\n",
       "      <td>Applied Cognition</td>\n",
       "      <td>Psychology</td>\n",
       "      <td>Written Exam</td>\n",
       "      <td>2021-12-15 18:36:00</td>\n",
       "      <td>Exam</td>\n",
       "      <td>Written</td>\n",
       "      <td>65</td>\n",
       "      <td>100</td>\n",
       "      <td>2021-12-15 18:02:00</td>\n",
       "      <td>NaN</td>\n",
       "      <td>65.00</td>\n",
       "    </tr>\n",
       "    <tr>\n",
       "      <th>31</th>\n",
       "      <td>AP1046</td>\n",
       "      <td>People &amp; Technology</td>\n",
       "      <td>Psychology</td>\n",
       "      <td>Assignment 2</td>\n",
       "      <td>2020-12-14 11:00:00</td>\n",
       "      <td>CA</td>\n",
       "      <td>Written</td>\n",
       "      <td>68</td>\n",
       "      <td>50</td>\n",
       "      <td>2020-12-11 09:58:00</td>\n",
       "      <td>NaN</td>\n",
       "      <td>34.00</td>\n",
       "    </tr>\n",
       "    <tr>\n",
       "      <th>53</th>\n",
       "      <td>AP2114</td>\n",
       "      <td>Research Methods in Psychology II</td>\n",
       "      <td>Psychology</td>\n",
       "      <td>Assignment 1: Thematic Analysis</td>\n",
       "      <td>2021-10-12 11:00:00</td>\n",
       "      <td>CA</td>\n",
       "      <td>Written</td>\n",
       "      <td>68</td>\n",
       "      <td>50</td>\n",
       "      <td>2021-10-12 07:30:00</td>\n",
       "      <td>NaN</td>\n",
       "      <td>34.00</td>\n",
       "    </tr>\n",
       "    <tr>\n",
       "      <th>49</th>\n",
       "      <td>AP2046</td>\n",
       "      <td>Experimental Design and Statistical Applicatio...</td>\n",
       "      <td>Statistics</td>\n",
       "      <td>Practical Report</td>\n",
       "      <td>2021-12-13 11:00:00</td>\n",
       "      <td>CA</td>\n",
       "      <td>Written</td>\n",
       "      <td>68</td>\n",
       "      <td>50</td>\n",
       "      <td>2021-12-12 11:25:00</td>\n",
       "      <td>NaN</td>\n",
       "      <td>34.00</td>\n",
       "    </tr>\n",
       "    <tr>\n",
       "      <th>51</th>\n",
       "      <td>AP2045</td>\n",
       "      <td>Psychology of Childhood and Adolescence</td>\n",
       "      <td>Psychology</td>\n",
       "      <td>Essay</td>\n",
       "      <td>2021-12-21 11:00:00</td>\n",
       "      <td>CA</td>\n",
       "      <td>Written</td>\n",
       "      <td>68</td>\n",
       "      <td>100</td>\n",
       "      <td>2021-12-21 05:21:00</td>\n",
       "      <td>NaN</td>\n",
       "      <td>68.00</td>\n",
       "    </tr>\n",
       "  </tbody>\n",
       "</table>\n",
       "</div>"
      ],
      "text/plain": [
       "   ModuleCode                                         ModuleName  \\\n",
       "44     CS2012                                    Web Development   \n",
       "6      CS1111                               Systems Organisation   \n",
       "38     AP1035               Neuroscience, Attention & Perception   \n",
       "40     AP1022                                  Social Psychology   \n",
       "39     AP1035               Neuroscience, Attention & Perception   \n",
       "52     AP2044                                  Applied Cognition   \n",
       "31     AP1046                                People & Technology   \n",
       "53     AP2114                  Research Methods in Psychology II   \n",
       "49     AP2046  Experimental Design and Statistical Applicatio...   \n",
       "51     AP2045            Psychology of Childhood and Adolescence   \n",
       "\n",
       "          ModuleType                   AssessmentName             DueDate  \\\n",
       "44  Computer Science                       Class Test 2021-12-03 11:30:00   \n",
       "6   Computer Science                       Class Test 2020-12-17 16:00:00   \n",
       "38        Psychology                          Essay 1 2021-05-04 18:00:00   \n",
       "40        Psychology                            Essay 2021-04-30 15:00:00   \n",
       "39        Psychology                          Essay 2 2021-05-04 18:00:00   \n",
       "52        Psychology                     Written Exam 2021-12-15 18:36:00   \n",
       "31        Psychology                     Assignment 2 2020-12-14 11:00:00   \n",
       "53        Psychology  Assignment 1: Thematic Analysis 2021-10-12 11:00:00   \n",
       "49        Statistics                 Practical Report 2021-12-13 11:00:00   \n",
       "51        Psychology                            Essay 2021-12-21 11:00:00   \n",
       "\n",
       "   AssessmentType SubmissionType  Score  CreditsWeight           Submitted  \\\n",
       "44           Exam           Quiz     45             25 2021-12-03 10:16:00   \n",
       "6            Exam        Written     50             40 2020-12-17 15:44:00   \n",
       "38             CA        Written     52             50 2021-05-04 12:21:00   \n",
       "40             CA        Written     62            100 2021-04-30 10:32:00   \n",
       "39             CA        Written     62             50 2021-05-04 12:21:00   \n",
       "52           Exam        Written     65            100 2021-12-15 18:02:00   \n",
       "31             CA        Written     68             50 2020-12-11 09:58:00   \n",
       "53             CA        Written     68             50 2021-10-12 07:30:00   \n",
       "49             CA        Written     68             50 2021-12-12 11:25:00   \n",
       "51             CA        Written     68            100 2021-12-21 05:21:00   \n",
       "\n",
       "   Comments  NumberCreditsEarned  \n",
       "44      NaN                11.25  \n",
       "6       NaN                20.00  \n",
       "38      NaN                26.00  \n",
       "40      NaN                62.00  \n",
       "39      NaN                31.00  \n",
       "52      NaN                65.00  \n",
       "31      NaN                34.00  \n",
       "53      NaN                34.00  \n",
       "49      NaN                34.00  \n",
       "51      NaN                68.00  "
      ]
     },
     "execution_count": 703,
     "metadata": {},
     "output_type": "execute_result"
    }
   ],
   "source": [
    "grades.loc[worst_grades]"
   ]
  },
  {
   "cell_type": "markdown",
   "metadata": {},
   "source": [
    "With the exception of two very shocking computer science assessments (both of which were exams) it appears overall psychology is my weakest area. But let's confirm this."
   ]
  },
  {
   "cell_type": "code",
   "execution_count": 704,
   "metadata": {},
   "outputs": [],
   "source": [
    "grades[\"ModuleType\"] = grades[\"ModuleType\"].astype(\"category\")\n",
    "grades[\"AssessmentType\"] = grades[\"AssessmentType\"].astype(\"category\")\n",
    "grades[\"SubmissionType\"] = grades[\"SubmissionType\"].astype(\"category\")"
   ]
  },
  {
   "cell_type": "code",
   "execution_count": 705,
   "metadata": {},
   "outputs": [
    {
     "data": {
      "text/plain": [
       "ModuleType\n",
       "Psychology          72.437500\n",
       "UX                  75.000000\n",
       "Statistics          85.000000\n",
       "Computer Science    88.827586\n",
       "Name: Score, dtype: float64"
      ]
     },
     "execution_count": 705,
     "metadata": {},
     "output_type": "execute_result"
    }
   ],
   "source": [
    "grades.groupby(\"ModuleType\")[\"Score\"].mean().sort_values()"
   ]
  },
  {
   "cell_type": "code",
   "execution_count": 706,
   "metadata": {},
   "outputs": [
    {
     "data": {
      "text/plain": [
       "AssessmentType\n",
       "Exam    71.625000\n",
       "CA      84.530612\n",
       "Name: Score, dtype: float64"
      ]
     },
     "execution_count": 706,
     "metadata": {},
     "output_type": "execute_result"
    }
   ],
   "source": [
    "grades.groupby(\"AssessmentType\")[\"Score\"].mean().sort_values()"
   ]
  },
  {
   "cell_type": "code",
   "execution_count": 707,
   "metadata": {},
   "outputs": [
    {
     "data": {
      "text/plain": [
       "SubmissionType\n",
       "Written         74.240000\n",
       "Quiz            81.428571\n",
       "Presentation    84.000000\n",
       "Programming     91.875000\n",
       "Name: Score, dtype: float64"
      ]
     },
     "execution_count": 707,
     "metadata": {},
     "output_type": "execute_result"
    }
   ],
   "source": [
    "grades.groupby(\"SubmissionType\")[\"Score\"].mean().sort_values()"
   ]
  },
  {
   "cell_type": "markdown",
   "metadata": {},
   "source": [
    "Based on this analysis. Written psychology exams are the weak spot. Not surprising really. \n",
    "And practical computer science continuous assessments are the strongest. 💪🏻\n",
    "\n",
    "I just submitted a python assignment. What mark can I hope to get on average based on previous python modules?"
   ]
  },
  {
   "cell_type": "code",
   "execution_count": 708,
   "metadata": {},
   "outputs": [],
   "source": [
    "python_modules = grades[\"ModuleName\"].isin([\"Introduction to Programming & Problem-Solving\",\"Intermediate Programming & Problem-Solving I\"])"
   ]
  },
  {
   "cell_type": "code",
   "execution_count": 709,
   "metadata": {},
   "outputs": [
    {
     "data": {
      "text/plain": [
       "87.92"
      ]
     },
     "execution_count": 709,
     "metadata": {},
     "output_type": "execute_result"
    }
   ],
   "source": [
    "round(grades[python_modules][\"NumberCreditsEarned\"].sum() / grades[python_modules][\"CreditsWeight\"].sum() * 100,2)"
   ]
  },
  {
   "cell_type": "markdown",
   "metadata": {},
   "source": [
    "Answer: about 88%"
   ]
  },
  {
   "cell_type": "markdown",
   "metadata": {},
   "source": [
    "# Building the Logistical Regression Model\n",
    "\n",
    "Let's see if we can build a model to predict future grades.\n",
    "\n",
    "First we need to deal with some of the categorical values by turning them into dummy variables making sure to deal with multicollinearity and scale the variables accordingly."
   ]
  },
  {
   "cell_type": "code",
   "execution_count": 710,
   "metadata": {},
   "outputs": [],
   "source": [
    "from sklearn.preprocessing import StandardScaler\n",
    "from sklearn.datasets import make_classification\n",
    "from sklearn.linear_model import LogisticRegression\n",
    "from sklearn.model_selection import train_test_split\n",
    "from sklearn.pipeline import make_pipeline\n",
    "from sklearn.preprocessing import StandardScaler\n",
    "from sklearn.metrics import classification_report"
   ]
  },
  {
   "cell_type": "code",
   "execution_count": 711,
   "metadata": {},
   "outputs": [],
   "source": [
    "cat_features = [\"ModuleType\",\"AssessmentType\",\"SubmissionType\"]\n",
    "grades_dummies = pd.get_dummies(grades, columns=cat_features, drop_first=True)"
   ]
  },
  {
   "cell_type": "code",
   "execution_count": 712,
   "metadata": {},
   "outputs": [],
   "source": [
    "X = grades_dummies[['CreditsWeight','ModuleType_Psychology', 'ModuleType_Statistics', 'ModuleType_UX','AssessmentType_Exam', 'SubmissionType_Programming', 'SubmissionType_Quiz', 'SubmissionType_Written']]\n",
    "y = grades_dummies['Score']"
   ]
  },
  {
   "cell_type": "code",
   "execution_count": 713,
   "metadata": {},
   "outputs": [
    {
     "data": {
      "text/plain": [
       "Pipeline(steps=[('standardscaler', StandardScaler()),\n",
       "                ('logisticregression', LogisticRegression())])"
      ]
     },
     "execution_count": 713,
     "metadata": {},
     "output_type": "execute_result"
    }
   ],
   "source": [
    "X_train, X_test, y_train, y_test = train_test_split(X, y, random_state=28)\n",
    "pipe = make_pipeline(StandardScaler(), LogisticRegression())\n",
    "pipe.fit(X_train, y_train)  "
   ]
  },
  {
   "cell_type": "code",
   "execution_count": 714,
   "metadata": {},
   "outputs": [],
   "source": [
    "predictions = pipe.predict(X_test)"
   ]
  },
  {
   "cell_type": "markdown",
   "metadata": {},
   "source": [
    "As we can see below the model did a pretty terrible job of predicting correctly from the data provided. Using categorical values to predict a numerical output means this was likely always going to be the case. For my purposes 100% accuracy is unneccessary. A ball park figure is good enough to take action on. "
   ]
  },
  {
   "cell_type": "code",
   "execution_count": 715,
   "metadata": {},
   "outputs": [
    {
     "name": "stdout",
     "output_type": "stream",
     "text": [
      "              precision    recall  f1-score   support\n",
      "\n",
      "          50       0.00      0.00      0.00         1\n",
      "          62       0.00      0.00      0.00         1\n",
      "          68       0.20      1.00      0.33         1\n",
      "          70       0.00      0.00      0.00         0\n",
      "          71       1.00      1.00      1.00         1\n",
      "          73       0.00      0.00      0.00         1\n",
      "          74       0.00      0.00      0.00         0\n",
      "          77       0.00      0.00      0.00         1\n",
      "          80       1.00      1.00      1.00         1\n",
      "          81       0.00      0.00      0.00         2\n",
      "          83       0.00      0.00      0.00         1\n",
      "          84       0.00      0.00      0.00         1\n",
      "          85       1.00      1.00      1.00         1\n",
      "          87       0.00      0.00      0.00         1\n",
      "          90       0.00      0.00      0.00         1\n",
      "          97       0.00      0.00      0.00         0\n",
      "         100       0.50      1.00      0.67         1\n",
      "\n",
      "    accuracy                           0.33        15\n",
      "   macro avg       0.22      0.29      0.24        15\n",
      "weighted avg       0.25      0.33      0.27        15\n",
      "\n"
     ]
    }
   ],
   "source": [
    "print(classification_report(y_test,predictions, zero_division=0))"
   ]
  },
  {
   "cell_type": "markdown",
   "metadata": {},
   "source": [
    "# How will semester 2 go?"
   ]
  },
  {
   "cell_type": "code",
   "execution_count": 716,
   "metadata": {},
   "outputs": [],
   "source": [
    "semester_2 = pd.read_csv(\"semester2.csv\")"
   ]
  },
  {
   "cell_type": "code",
   "execution_count": 717,
   "metadata": {},
   "outputs": [],
   "source": [
    "semester_2_dummies = pd.get_dummies(semester_2, columns=cat_features)"
   ]
  },
  {
   "cell_type": "code",
   "execution_count": 718,
   "metadata": {},
   "outputs": [],
   "source": [
    "predicted_grades = semester_2_dummies[['CreditsWeight','ModuleType_Psychology', 'ModuleType_Statistics', 'ModuleType_UX','AssessmentType_Exam', 'SubmissionType_Programming', 'SubmissionType_Quiz', 'SubmissionType_Written']]\n",
    "semester_2['Predicted'] = pipe.predict(predicted_grades)"
   ]
  },
  {
   "cell_type": "markdown",
   "metadata": {},
   "source": [
    "These are the 5 assignments most likely to give me trouble this semester."
   ]
  },
  {
   "cell_type": "code",
   "execution_count": 719,
   "metadata": {},
   "outputs": [
    {
     "data": {
      "text/html": [
       "<div>\n",
       "<style scoped>\n",
       "    .dataframe tbody tr th:only-of-type {\n",
       "        vertical-align: middle;\n",
       "    }\n",
       "\n",
       "    .dataframe tbody tr th {\n",
       "        vertical-align: top;\n",
       "    }\n",
       "\n",
       "    .dataframe thead th {\n",
       "        text-align: right;\n",
       "    }\n",
       "</style>\n",
       "<table border=\"1\" class=\"dataframe\">\n",
       "  <thead>\n",
       "    <tr style=\"text-align: right;\">\n",
       "      <th></th>\n",
       "      <th>ModuleName</th>\n",
       "      <th>AssessmentName</th>\n",
       "      <th>Predicted</th>\n",
       "    </tr>\n",
       "  </thead>\n",
       "  <tbody>\n",
       "    <tr>\n",
       "      <th>1</th>\n",
       "      <td>Learning &amp; Behaviour</td>\n",
       "      <td>MCQ</td>\n",
       "      <td>45</td>\n",
       "    </tr>\n",
       "    <tr>\n",
       "      <th>0</th>\n",
       "      <td>Learning &amp; Behaviour</td>\n",
       "      <td>Essay</td>\n",
       "      <td>68</td>\n",
       "    </tr>\n",
       "    <tr>\n",
       "      <th>2</th>\n",
       "      <td>Research Methods in Psychology II</td>\n",
       "      <td>Prac 4 Experiment</td>\n",
       "      <td>68</td>\n",
       "    </tr>\n",
       "    <tr>\n",
       "      <th>3</th>\n",
       "      <td>Research Methods in Psychology II</td>\n",
       "      <td>Prac 5 Research Proposal</td>\n",
       "      <td>68</td>\n",
       "    </tr>\n",
       "    <tr>\n",
       "      <th>5</th>\n",
       "      <td>Social Computing</td>\n",
       "      <td>Blogs</td>\n",
       "      <td>68</td>\n",
       "    </tr>\n",
       "    <tr>\n",
       "      <th>6</th>\n",
       "      <td>Social Computing</td>\n",
       "      <td>Social Analysis Report</td>\n",
       "      <td>68</td>\n",
       "    </tr>\n",
       "    <tr>\n",
       "      <th>11</th>\n",
       "      <td>Design for Human Centred Computing</td>\n",
       "      <td>Project Assignment 1</td>\n",
       "      <td>74</td>\n",
       "    </tr>\n",
       "  </tbody>\n",
       "</table>\n",
       "</div>"
      ],
      "text/plain": [
       "                            ModuleName            AssessmentName  Predicted\n",
       "1                 Learning & Behaviour                       MCQ         45\n",
       "0                 Learning & Behaviour                     Essay         68\n",
       "2    Research Methods in Psychology II         Prac 4 Experiment         68\n",
       "3    Research Methods in Psychology II  Prac 5 Research Proposal         68\n",
       "5                     Social Computing                     Blogs         68\n",
       "6                     Social Computing    Social Analysis Report         68\n",
       "11  Design for Human Centred Computing      Project Assignment 1         74"
      ]
     },
     "execution_count": 719,
     "metadata": {},
     "output_type": "execute_result"
    }
   ],
   "source": [
    "semester_2[[\"ModuleName\",\"AssessmentName\", \"Predicted\"]].sort_values(\"Predicted\").head(7)"
   ]
  },
  {
   "cell_type": "code",
   "execution_count": 720,
   "metadata": {},
   "outputs": [
    {
     "data": {
      "text/plain": [
       "0.73"
      ]
     },
     "execution_count": 720,
     "metadata": {},
     "output_type": "execute_result"
    }
   ],
   "source": [
    "semester_2[\"PredictedCreditsEarned\"] = semester_2[\"CreditsWeight\"] * (semester_2[\"Predicted\"] / 100)\n",
    "round(semester_2[\"PredictedCreditsEarned\"].sum() / semester_2[\"CreditsWeight\"].sum(),2)"
   ]
  },
  {
   "cell_type": "markdown",
   "metadata": {},
   "source": [
    "Looks like I'm going to have to work a little harder this semester to keep my grades up. Let's see what modules are likely to cause issues."
   ]
  },
  {
   "cell_type": "code",
   "execution_count": 721,
   "metadata": {},
   "outputs": [
    {
     "data": {
      "text/html": [
       "<div>\n",
       "<style scoped>\n",
       "    .dataframe tbody tr th:only-of-type {\n",
       "        vertical-align: middle;\n",
       "    }\n",
       "\n",
       "    .dataframe tbody tr th {\n",
       "        vertical-align: top;\n",
       "    }\n",
       "\n",
       "    .dataframe thead th {\n",
       "        text-align: right;\n",
       "    }\n",
       "</style>\n",
       "<table border=\"1\" class=\"dataframe\">\n",
       "  <thead>\n",
       "    <tr style=\"text-align: right;\">\n",
       "      <th></th>\n",
       "      <th>Predicted</th>\n",
       "    </tr>\n",
       "    <tr>\n",
       "      <th>ModuleName</th>\n",
       "      <th></th>\n",
       "    </tr>\n",
       "  </thead>\n",
       "  <tbody>\n",
       "    <tr>\n",
       "      <th>Learning &amp; Behaviour</th>\n",
       "      <td>56.500000</td>\n",
       "    </tr>\n",
       "    <tr>\n",
       "      <th>Social Computing</th>\n",
       "      <td>68.000000</td>\n",
       "    </tr>\n",
       "    <tr>\n",
       "      <th>Research Methods in Psychology II</th>\n",
       "      <td>73.666667</td>\n",
       "    </tr>\n",
       "    <tr>\n",
       "      <th>Design for Human Centred Computing</th>\n",
       "      <td>74.000000</td>\n",
       "    </tr>\n",
       "    <tr>\n",
       "      <th>Intermediate Programming &amp; Problem Solving II</th>\n",
       "      <td>96.250000</td>\n",
       "    </tr>\n",
       "  </tbody>\n",
       "</table>\n",
       "</div>"
      ],
      "text/plain": [
       "                                               Predicted\n",
       "ModuleName                                              \n",
       "Learning & Behaviour                           56.500000\n",
       "Social Computing                               68.000000\n",
       "Research Methods in Psychology II              73.666667\n",
       "Design for Human Centred Computing             74.000000\n",
       "Intermediate Programming & Problem Solving II  96.250000"
      ]
     },
     "execution_count": 721,
     "metadata": {},
     "output_type": "execute_result"
    }
   ],
   "source": [
    "semester_2[[\"ModuleName\",\"Predicted\"]].groupby(\"ModuleName\").mean().sort_values(\"Predicted\")"
   ]
  },
  {
   "cell_type": "markdown",
   "metadata": {},
   "source": [
    "## Conclusion\n",
    "Looks like Learning & Behaviour might prove challenging. I know Dr Linehan can be a tough marker. I'll put a little extra attention there. My intuition about psychology versus computer science seems to be right and this semesters focus on more written psychology will make it just that little bit harder than last semester. But I am ready for it."
   ]
  }
 ],
 "metadata": {
  "kernelspec": {
   "display_name": "Python 3",
   "language": "python",
   "name": "python3"
  },
  "language_info": {
   "codemirror_mode": {
    "name": "ipython",
    "version": 3
   },
   "file_extension": ".py",
   "mimetype": "text/x-python",
   "name": "python",
   "nbconvert_exporter": "python",
   "pygments_lexer": "ipython3",
   "version": "3.8.5"
  }
 },
 "nbformat": 4,
 "nbformat_minor": 4
}
