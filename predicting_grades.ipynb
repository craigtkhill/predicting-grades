{
 "cells": [
  {
   "cell_type": "markdown",
   "metadata": {},
   "source": [
    "# Predicting Grades for Semester 2 of Second Year\n",
    "\n",
    "In this project I try to figure out which assignments I am likely to find more difficult based on previous results.\n",
    "And which ones I am likely to do well in.\n",
    "I have an intuition that the computer science, stats and pratical assignments are easier than the psychology and written ones. But let's see if this is the case.\n",
    "\n",
    "The dataset includes the following features:\n",
    "- 'ModuleCode': the identifier code for the module\n",
    "- 'ModuleName': the name of the module\n",
    "- 'ModuleType': the field the assessment belongs to (computer science, psychology etc)\n",
    "- 'AssessmentName': the name of the assessment\n",
    "- 'DueDate': the date and time the assessment was due\n",
    "- 'AssessmentType': whether the assessment was an exam or continuous assessment\n",
    "- 'SubmissionType': what activity the assessment primarily consisted of (written, programming etc)\n",
    "- 'Score': The grade achieve for the assessment\n",
    "- 'CreditsWeight': the weight of the assessment for the modules overall score (100 marks is equal to a 5 credit module)\n",
    "- 'Submitted': the time the assessment was submitted online"
   ]
  },
  {
   "cell_type": "code",
   "execution_count": 40,
   "metadata": {},
   "outputs": [],
   "source": [
    "import pandas as pd\n",
    "import numpy as np\n",
    "import matplotlib.pyplot as plt\n",
    "import seaborn as sns"
   ]
  },
  {
   "cell_type": "code",
   "execution_count": 41,
   "metadata": {},
   "outputs": [],
   "source": [
    "grades = pd.read_csv(\"grades.csv\", sep=\"\\t\", encoding=\"unicode-escape\")"
   ]
  },
  {
   "cell_type": "code",
   "execution_count": 42,
   "metadata": {},
   "outputs": [
    {
     "name": "stdout",
     "output_type": "stream",
     "text": [
      "Systems Organisation\n",
      "Human Centred Computing\n",
      "Introduction to Programming & Problem-Solving\n",
      "Relational Databases\n",
      "User Experience Design\n",
      "Research Methods in Psychology I\n",
      "People & Technology\n",
      "Research Design & Statistical Analysis\n",
      "Neuroscience, Attention & Perception\n",
      "Social Psychology\n",
      "Web Development\n",
      "Intermediate Programming & Problem-Solving I\n",
      "Experimental Design and Statistical Applications II\n",
      "Psychology of Childhood and Adolescence\n",
      "Applied Cognition\n",
      "Research Methods in Psychology II\n",
      "16 modules\n"
     ]
    }
   ],
   "source": [
    "unique_modules = grades['ModuleName'].unique()\n",
    "for module in unique_modules:\n",
    "    print(module)\n",
    "    \n",
    "print(len(unique_modules), 'modules') # should be 17"
   ]
  },
  {
   "cell_type": "markdown",
   "metadata": {},
   "source": [
    "I missed a module when I was inputting the data to the excel sheet. Let me just fix that quick"
   ]
  },
  {
   "cell_type": "code",
   "execution_count": 43,
   "metadata": {},
   "outputs": [],
   "source": [
    "missing_module = pd.DataFrame([\n",
    "    [\"CS2512\",\"Authoring\",\"Computer Science\",\"Assignment 1\",\"13 Nov 2021 23:30\",\"CA\",\"Written\",77,30,\"13 Nov 2021 19:56\"],\n",
    "[\"CS2512\",\"Authoring\",\"Computer Science\",\"Assignment 2\",\"27 Nov 2021 23:30\",\"CA\",\"Programming\",83,35,\"26 Nov 2021 12:02\"],\n",
    "[\"CS2512\",\"Authoring\",\"Computer Science\",\"Assignment 3\",\"5 Dec 2021 23:30\",\"CA\",\"Programming\",71,35,\"28 Nov 2021 16:35\",]\n",
    "], columns=[\"ModuleCode\",\"ModuleName\",\"ModuleType\",\"AssessmentName\",\"DueDate\",\"AssessmentType\",\"SubmissionType\",\"Score\",\"CreditsWeight\",\"Submitted\"])"
   ]
  },
  {
   "cell_type": "code",
   "execution_count": 44,
   "metadata": {},
   "outputs": [
    {
     "data": {
      "text/html": [
       "<div>\n",
       "<style scoped>\n",
       "    .dataframe tbody tr th:only-of-type {\n",
       "        vertical-align: middle;\n",
       "    }\n",
       "\n",
       "    .dataframe tbody tr th {\n",
       "        vertical-align: top;\n",
       "    }\n",
       "\n",
       "    .dataframe thead th {\n",
       "        text-align: right;\n",
       "    }\n",
       "</style>\n",
       "<table border=\"1\" class=\"dataframe\">\n",
       "  <thead>\n",
       "    <tr style=\"text-align: right;\">\n",
       "      <th></th>\n",
       "      <th>ModuleCode</th>\n",
       "      <th>ModuleName</th>\n",
       "      <th>ModuleType</th>\n",
       "      <th>AssessmentName</th>\n",
       "      <th>DueDate</th>\n",
       "      <th>AssessmentType</th>\n",
       "      <th>SubmissionType</th>\n",
       "      <th>Score</th>\n",
       "      <th>CreditsWeight</th>\n",
       "      <th>Submitted</th>\n",
       "    </tr>\n",
       "  </thead>\n",
       "  <tbody>\n",
       "    <tr>\n",
       "      <th>0</th>\n",
       "      <td>CS2512</td>\n",
       "      <td>Authoring</td>\n",
       "      <td>Computer Science</td>\n",
       "      <td>Assignment 1</td>\n",
       "      <td>13 Nov 2021 23:30</td>\n",
       "      <td>CA</td>\n",
       "      <td>Written</td>\n",
       "      <td>77</td>\n",
       "      <td>30</td>\n",
       "      <td>13 Nov 2021 19:56</td>\n",
       "    </tr>\n",
       "    <tr>\n",
       "      <th>1</th>\n",
       "      <td>CS2512</td>\n",
       "      <td>Authoring</td>\n",
       "      <td>Computer Science</td>\n",
       "      <td>Assignment 2</td>\n",
       "      <td>27 Nov 2021 23:30</td>\n",
       "      <td>CA</td>\n",
       "      <td>Programming</td>\n",
       "      <td>83</td>\n",
       "      <td>35</td>\n",
       "      <td>26 Nov 2021 12:02</td>\n",
       "    </tr>\n",
       "    <tr>\n",
       "      <th>2</th>\n",
       "      <td>CS2512</td>\n",
       "      <td>Authoring</td>\n",
       "      <td>Computer Science</td>\n",
       "      <td>Assignment 3</td>\n",
       "      <td>5 Dec 2021 23:30</td>\n",
       "      <td>CA</td>\n",
       "      <td>Programming</td>\n",
       "      <td>71</td>\n",
       "      <td>35</td>\n",
       "      <td>28 Nov 2021 16:35</td>\n",
       "    </tr>\n",
       "  </tbody>\n",
       "</table>\n",
       "</div>"
      ],
      "text/plain": [
       "  ModuleCode ModuleName        ModuleType AssessmentName            DueDate  \\\n",
       "0     CS2512  Authoring  Computer Science   Assignment 1  13 Nov 2021 23:30   \n",
       "1     CS2512  Authoring  Computer Science   Assignment 2  27 Nov 2021 23:30   \n",
       "2     CS2512  Authoring  Computer Science   Assignment 3   5 Dec 2021 23:30   \n",
       "\n",
       "  AssessmentType SubmissionType  Score  CreditsWeight          Submitted  \n",
       "0             CA        Written     77             30  13 Nov 2021 19:56  \n",
       "1             CA    Programming     83             35  26 Nov 2021 12:02  \n",
       "2             CA    Programming     71             35  28 Nov 2021 16:35  "
      ]
     },
     "execution_count": 44,
     "metadata": {},
     "output_type": "execute_result"
    }
   ],
   "source": [
    "missing_module"
   ]
  },
  {
   "cell_type": "code",
   "execution_count": 45,
   "metadata": {},
   "outputs": [],
   "source": [
    "grades = pd.concat([grades, missing_module], ignore_index=True, axis=\"index\")"
   ]
  },
  {
   "cell_type": "code",
   "execution_count": 46,
   "metadata": {},
   "outputs": [
    {
     "data": {
      "text/html": [
       "<div>\n",
       "<style scoped>\n",
       "    .dataframe tbody tr th:only-of-type {\n",
       "        vertical-align: middle;\n",
       "    }\n",
       "\n",
       "    .dataframe tbody tr th {\n",
       "        vertical-align: top;\n",
       "    }\n",
       "\n",
       "    .dataframe thead th {\n",
       "        text-align: right;\n",
       "    }\n",
       "</style>\n",
       "<table border=\"1\" class=\"dataframe\">\n",
       "  <thead>\n",
       "    <tr style=\"text-align: right;\">\n",
       "      <th></th>\n",
       "      <th>ModuleCode</th>\n",
       "      <th>ModuleName</th>\n",
       "      <th>ModuleType</th>\n",
       "      <th>AssessmentName</th>\n",
       "      <th>DueDate</th>\n",
       "      <th>AssessmentType</th>\n",
       "      <th>SubmissionType</th>\n",
       "      <th>Score</th>\n",
       "      <th>CreditsWeight</th>\n",
       "      <th>Submitted</th>\n",
       "      <th>Comments</th>\n",
       "    </tr>\n",
       "  </thead>\n",
       "  <tbody>\n",
       "    <tr>\n",
       "      <th>52</th>\n",
       "      <td>AP2044</td>\n",
       "      <td>Applied Cognition</td>\n",
       "      <td>Psychology</td>\n",
       "      <td>Written Exam</td>\n",
       "      <td>15 Dec 2021 by 18:36</td>\n",
       "      <td>Exam</td>\n",
       "      <td>Written</td>\n",
       "      <td>65</td>\n",
       "      <td>100</td>\n",
       "      <td>15 Dec 2021 at 18:02</td>\n",
       "      <td>NaN</td>\n",
       "    </tr>\n",
       "    <tr>\n",
       "      <th>53</th>\n",
       "      <td>AP2114</td>\n",
       "      <td>Research Methods in Psychology II</td>\n",
       "      <td>Psychology</td>\n",
       "      <td>Assignment 1: Thematic Analysis</td>\n",
       "      <td>12/10/2021 11:00</td>\n",
       "      <td>CA</td>\n",
       "      <td>Written</td>\n",
       "      <td>68</td>\n",
       "      <td>50</td>\n",
       "      <td>12/10/2021 07:30</td>\n",
       "      <td>NaN</td>\n",
       "    </tr>\n",
       "    <tr>\n",
       "      <th>54</th>\n",
       "      <td>CS2512</td>\n",
       "      <td>Authoring</td>\n",
       "      <td>Computer Science</td>\n",
       "      <td>Assignment 1</td>\n",
       "      <td>13 Nov 2021 23:30</td>\n",
       "      <td>CA</td>\n",
       "      <td>Written</td>\n",
       "      <td>77</td>\n",
       "      <td>30</td>\n",
       "      <td>13 Nov 2021 19:56</td>\n",
       "      <td>NaN</td>\n",
       "    </tr>\n",
       "    <tr>\n",
       "      <th>55</th>\n",
       "      <td>CS2512</td>\n",
       "      <td>Authoring</td>\n",
       "      <td>Computer Science</td>\n",
       "      <td>Assignment 2</td>\n",
       "      <td>27 Nov 2021 23:30</td>\n",
       "      <td>CA</td>\n",
       "      <td>Programming</td>\n",
       "      <td>83</td>\n",
       "      <td>35</td>\n",
       "      <td>26 Nov 2021 12:02</td>\n",
       "      <td>NaN</td>\n",
       "    </tr>\n",
       "    <tr>\n",
       "      <th>56</th>\n",
       "      <td>CS2512</td>\n",
       "      <td>Authoring</td>\n",
       "      <td>Computer Science</td>\n",
       "      <td>Assignment 3</td>\n",
       "      <td>5 Dec 2021 23:30</td>\n",
       "      <td>CA</td>\n",
       "      <td>Programming</td>\n",
       "      <td>71</td>\n",
       "      <td>35</td>\n",
       "      <td>28 Nov 2021 16:35</td>\n",
       "      <td>NaN</td>\n",
       "    </tr>\n",
       "  </tbody>\n",
       "</table>\n",
       "</div>"
      ],
      "text/plain": [
       "   ModuleCode                         ModuleName        ModuleType  \\\n",
       "52     AP2044                  Applied Cognition        Psychology   \n",
       "53     AP2114  Research Methods in Psychology II        Psychology   \n",
       "54     CS2512                          Authoring  Computer Science   \n",
       "55     CS2512                          Authoring  Computer Science   \n",
       "56     CS2512                          Authoring  Computer Science   \n",
       "\n",
       "                     AssessmentName               DueDate AssessmentType  \\\n",
       "52                     Written Exam  15 Dec 2021 by 18:36           Exam   \n",
       "53  Assignment 1: Thematic Analysis      12/10/2021 11:00             CA   \n",
       "54                     Assignment 1     13 Nov 2021 23:30             CA   \n",
       "55                     Assignment 2     27 Nov 2021 23:30             CA   \n",
       "56                     Assignment 3      5 Dec 2021 23:30             CA   \n",
       "\n",
       "   SubmissionType  Score  CreditsWeight             Submitted Comments  \n",
       "52        Written     65            100  15 Dec 2021 at 18:02      NaN  \n",
       "53        Written     68             50      12/10/2021 07:30      NaN  \n",
       "54        Written     77             30     13 Nov 2021 19:56      NaN  \n",
       "55    Programming     83             35     26 Nov 2021 12:02      NaN  \n",
       "56    Programming     71             35     28 Nov 2021 16:35      NaN  "
      ]
     },
     "execution_count": 46,
     "metadata": {},
     "output_type": "execute_result"
    }
   ],
   "source": [
    "grades.tail(5)"
   ]
  },
  {
   "cell_type": "markdown",
   "metadata": {},
   "source": [
    "Everything is looking good so far. Notice the different time formats. Let's deal with that!"
   ]
  },
  {
   "cell_type": "code",
   "execution_count": 47,
   "metadata": {},
   "outputs": [],
   "source": [
    "from datetime import datetime"
   ]
  },
  {
   "cell_type": "code",
   "execution_count": 48,
   "metadata": {
    "scrolled": true
   },
   "outputs": [
    {
     "name": "stdout",
     "output_type": "stream",
     "text": [
      "[]\n"
     ]
    }
   ],
   "source": [
    "date_formats = (\"%d %b %Y by %H:%S\", \"%d %b %Y at %H:%S\", \"%d/%m/%Y %H:%S\", \"%d %b %Y %H:%S\")\n",
    "issues = []\n",
    "def parse(date):\n",
    "    for date_format in date_formats:\n",
    "        try:\n",
    "            return datetime.strptime(date, date_format).strftime(\"%d/%m/%Y %H:%S\")\n",
    "        except ValueError:\n",
    "            issues.append(date)\n",
    "    \n",
    "print(issues)\n",
    "\n",
    "grades[\"DueDate\"] = grades[\"DueDate\"].apply(lambda date: parse(date))"
   ]
  },
  {
   "cell_type": "code",
   "execution_count": 49,
   "metadata": {},
   "outputs": [],
   "source": [
    "grades[\"DueDate\"] = pd.to_datetime(grades[\"DueDate\"], dayfirst=True)\n",
    "grades[\"Submitted\"] = pd.to_datetime(grades[\"Submitted\"], dayfirst=True)"
   ]
  },
  {
   "cell_type": "markdown",
   "metadata": {},
   "source": [
    "Let's sort the assignments by the time they were submitted"
   ]
  },
  {
   "cell_type": "code",
   "execution_count": 50,
   "metadata": {},
   "outputs": [],
   "source": [
    "grades = grades.sort_values(\"Submitted\")"
   ]
  },
  {
   "cell_type": "code",
   "execution_count": 51,
   "metadata": {},
   "outputs": [
    {
     "data": {
      "text/html": [
       "<div>\n",
       "<style scoped>\n",
       "    .dataframe tbody tr th:only-of-type {\n",
       "        vertical-align: middle;\n",
       "    }\n",
       "\n",
       "    .dataframe tbody tr th {\n",
       "        vertical-align: top;\n",
       "    }\n",
       "\n",
       "    .dataframe thead th {\n",
       "        text-align: right;\n",
       "    }\n",
       "</style>\n",
       "<table border=\"1\" class=\"dataframe\">\n",
       "  <thead>\n",
       "    <tr style=\"text-align: right;\">\n",
       "      <th></th>\n",
       "      <th>ModuleCode</th>\n",
       "      <th>ModuleName</th>\n",
       "      <th>ModuleType</th>\n",
       "      <th>AssessmentName</th>\n",
       "      <th>DueDate</th>\n",
       "      <th>AssessmentType</th>\n",
       "      <th>SubmissionType</th>\n",
       "      <th>Score</th>\n",
       "      <th>CreditsWeight</th>\n",
       "      <th>Submitted</th>\n",
       "      <th>Comments</th>\n",
       "    </tr>\n",
       "  </thead>\n",
       "  <tbody>\n",
       "    <tr>\n",
       "      <th>14</th>\n",
       "      <td>CS1021</td>\n",
       "      <td>Relational Databases</td>\n",
       "      <td>Computer Science</td>\n",
       "      <td>Lab Assignment 1</td>\n",
       "      <td>2020-10-23 23:59:00</td>\n",
       "      <td>CA</td>\n",
       "      <td>Programming</td>\n",
       "      <td>83</td>\n",
       "      <td>6</td>\n",
       "      <td>2020-10-19 16:20:00</td>\n",
       "      <td>NaN</td>\n",
       "    </tr>\n",
       "    <tr>\n",
       "      <th>22</th>\n",
       "      <td>AP1104</td>\n",
       "      <td>Research Methods in Psychology I</td>\n",
       "      <td>Psychology</td>\n",
       "      <td>Prac 1 Research Paper Worksheet</td>\n",
       "      <td>2020-11-09 18:00:00</td>\n",
       "      <td>CA</td>\n",
       "      <td>Written</td>\n",
       "      <td>70</td>\n",
       "      <td>10</td>\n",
       "      <td>2020-10-31 08:41:00</td>\n",
       "      <td>NaN</td>\n",
       "    </tr>\n",
       "    <tr>\n",
       "      <th>0</th>\n",
       "      <td>CS1111</td>\n",
       "      <td>Systems Organisation</td>\n",
       "      <td>Computer Science</td>\n",
       "      <td>Assessment 1 - Overview Material Questions</td>\n",
       "      <td>2020-11-08 23:59:00</td>\n",
       "      <td>CA</td>\n",
       "      <td>Written</td>\n",
       "      <td>100</td>\n",
       "      <td>10</td>\n",
       "      <td>2020-11-07 08:50:00</td>\n",
       "      <td>NaN</td>\n",
       "    </tr>\n",
       "    <tr>\n",
       "      <th>32</th>\n",
       "      <td>AP1040</td>\n",
       "      <td>Research Design &amp; Statistical Analysis</td>\n",
       "      <td>Statistics</td>\n",
       "      <td>Assignment 1</td>\n",
       "      <td>2020-11-09 11:00:00</td>\n",
       "      <td>CA</td>\n",
       "      <td>Written</td>\n",
       "      <td>87</td>\n",
       "      <td>10</td>\n",
       "      <td>2020-11-08 08:29:00</td>\n",
       "      <td>NaN</td>\n",
       "    </tr>\n",
       "    <tr>\n",
       "      <th>15</th>\n",
       "      <td>CS1021</td>\n",
       "      <td>Relational Databases</td>\n",
       "      <td>Computer Science</td>\n",
       "      <td>Lab Assignment 2</td>\n",
       "      <td>2020-11-14 23:59:00</td>\n",
       "      <td>CA</td>\n",
       "      <td>Programming</td>\n",
       "      <td>83</td>\n",
       "      <td>6</td>\n",
       "      <td>2020-11-08 13:24:00</td>\n",
       "      <td>NaN</td>\n",
       "    </tr>\n",
       "  </tbody>\n",
       "</table>\n",
       "</div>"
      ],
      "text/plain": [
       "   ModuleCode                              ModuleName        ModuleType  \\\n",
       "14     CS1021                    Relational Databases  Computer Science   \n",
       "22     AP1104        Research Methods in Psychology I        Psychology   \n",
       "0      CS1111                    Systems Organisation  Computer Science   \n",
       "32     AP1040  Research Design & Statistical Analysis        Statistics   \n",
       "15     CS1021                    Relational Databases  Computer Science   \n",
       "\n",
       "                                AssessmentName             DueDate  \\\n",
       "14                            Lab Assignment 1 2020-10-23 23:59:00   \n",
       "22             Prac 1 Research Paper Worksheet 2020-11-09 18:00:00   \n",
       "0   Assessment 1 - Overview Material Questions 2020-11-08 23:59:00   \n",
       "32                                Assignment 1 2020-11-09 11:00:00   \n",
       "15                            Lab Assignment 2 2020-11-14 23:59:00   \n",
       "\n",
       "   AssessmentType SubmissionType  Score  CreditsWeight           Submitted  \\\n",
       "14             CA    Programming     83              6 2020-10-19 16:20:00   \n",
       "22             CA        Written     70             10 2020-10-31 08:41:00   \n",
       "0              CA        Written    100             10 2020-11-07 08:50:00   \n",
       "32             CA        Written     87             10 2020-11-08 08:29:00   \n",
       "15             CA    Programming     83              6 2020-11-08 13:24:00   \n",
       "\n",
       "   Comments  \n",
       "14      NaN  \n",
       "22      NaN  \n",
       "0       NaN  \n",
       "32      NaN  \n",
       "15      NaN  "
      ]
     },
     "execution_count": 51,
     "metadata": {},
     "output_type": "execute_result"
    }
   ],
   "source": [
    "grades.head()"
   ]
  },
  {
   "cell_type": "markdown",
   "metadata": {},
   "source": [
    "# Exploratory Analysis\n",
    "\n",
    "I want to find my average score overall\n",
    "but getting the mean of the scores doesn't account for the fact that the assignments are worth different amounts of credit"
   ]
  },
  {
   "cell_type": "code",
   "execution_count": 52,
   "metadata": {},
   "outputs": [
    {
     "data": {
      "text/plain": [
       "82.72"
      ]
     },
     "execution_count": 52,
     "metadata": {},
     "output_type": "execute_result"
    }
   ],
   "source": [
    "round(grades['Score'].mean(),2) "
   ]
  },
  {
   "cell_type": "markdown",
   "metadata": {},
   "source": [
    "so the 82% is inflated. Fortunately the CreditsWeight column lets us deal with that."
   ]
  },
  {
   "cell_type": "code",
   "execution_count": 53,
   "metadata": {},
   "outputs": [
    {
     "data": {
      "text/plain": [
       "78.0"
      ]
     },
     "execution_count": 53,
     "metadata": {},
     "output_type": "execute_result"
    }
   ],
   "source": [
    "grades[\"NumberCreditsEarned\"] = grades[\"CreditsWeight\"] * (grades[\"Score\"] / 100)\n",
    "round(grades[\"NumberCreditsEarned\"].sum() / grades[\"CreditsWeight\"].sum(),2) * 100"
   ]
  },
  {
   "cell_type": "code",
   "execution_count": 54,
   "metadata": {},
   "outputs": [
    {
     "data": {
      "text/plain": [
       "77.6128"
      ]
     },
     "execution_count": 54,
     "metadata": {},
     "output_type": "execute_result"
    }
   ],
   "source": [
    "# here's a more succint syntax\n",
    "np.average(grades[\"Score\"] ,weights=grades[\"CreditsWeight\"])"
   ]
  },
  {
   "cell_type": "markdown",
   "metadata": {},
   "source": [
    "78% is not bad at all. \n",
    "\n",
    "If we look at the median, we see the distribution is negatively skewed."
   ]
  },
  {
   "cell_type": "code",
   "execution_count": 55,
   "metadata": {},
   "outputs": [
    {
     "data": {
      "text/plain": [
       "84.0"
      ]
     },
     "execution_count": 55,
     "metadata": {},
     "output_type": "execute_result"
    }
   ],
   "source": [
    "grades['Score'].median()"
   ]
  },
  {
   "cell_type": "code",
   "execution_count": 56,
   "metadata": {},
   "outputs": [
    {
     "data": {
      "text/plain": [
       "<AxesSubplot:ylabel='Density'>"
      ]
     },
     "execution_count": 56,
     "metadata": {},
     "output_type": "execute_result"
    },
    {
     "data": {
      "image/png": "[encoded data removed]",
      "text/plain": [
       "<Figure size 432x288 with 1 Axes>"
      ]
     },
     "metadata": {
      "needs_background": "light"
     },
     "output_type": "display_data"
    }
   ],
   "source": [
    "grades[\"Score\"].sort_values().plot(kind=\"kde\")"
   ]
  },
  {
   "cell_type": "markdown",
   "metadata": {},
   "source": [
    "### How do each of the semesters compare?"
   ]
  },
  {
   "cell_type": "code",
   "execution_count": 57,
   "metadata": {},
   "outputs": [
    {
     "data": {
      "text/plain": [
       "0.79"
      ]
     },
     "execution_count": 57,
     "metadata": {},
     "output_type": "execute_result"
    }
   ],
   "source": [
    "# Semester 1\n",
    "semester1_credits_earned = grades[grades[\"DueDate\"].between(\"2020-9-01\",\"2020-12-31\")][\"NumberCreditsEarned\"].sum()\n",
    "semester1_credits_total = grades[grades[\"DueDate\"].between(\"2020-9-01\",\"2020-12-31\")][\"CreditsWeight\"].sum()\n",
    "round(semester1_credits_earned / semester1_credits_total,2)"
   ]
  },
  {
   "cell_type": "code",
   "execution_count": 58,
   "metadata": {},
   "outputs": [
    {
     "data": {
      "text/plain": [
       "0.78"
      ]
     },
     "execution_count": 58,
     "metadata": {},
     "output_type": "execute_result"
    }
   ],
   "source": [
    "# Semester 2\n",
    "semester2_credits_earned = grades[grades[\"DueDate\"].between(\"2021-1-1\",\"2021-6-1\")][\"NumberCreditsEarned\"].sum()\n",
    "semester2_credits_total = grades[grades[\"DueDate\"].between(\"2021-1-1\",\"2021-6-1\")][\"CreditsWeight\"].sum()\n",
    "round(semester2_credits_earned / semester2_credits_total,2)"
   ]
  },
  {
   "cell_type": "code",
   "execution_count": 59,
   "metadata": {},
   "outputs": [
    {
     "data": {
      "text/plain": [
       "0.77"
      ]
     },
     "execution_count": 59,
     "metadata": {},
     "output_type": "execute_result"
    }
   ],
   "source": [
    "# Semester 3\n",
    "semester3_credits_earned = grades[grades[\"DueDate\"].between(\"2021-9-1\",\"2021-12-31\")][\"NumberCreditsEarned\"].sum()\n",
    "semester3_credits_total = grades[grades[\"DueDate\"].between(\"2021-9-1\",\"2021-12-31\")][\"CreditsWeight\"].sum()\n",
    "round(semester3_credits_earned / semester3_credits_total,2)"
   ]
  },
  {
   "cell_type": "markdown",
   "metadata": {},
   "source": [
    "It looks like each semester is getting progressively harder, as expected.\n",
    "\n",
    "I want to see if we can shift that distribution by focusing on my weakest points.\n",
    "\n",
    "Let's see what my 10 worst grades have been so far."
   ]
  },
  {
   "cell_type": "code",
   "execution_count": 60,
   "metadata": {},
   "outputs": [],
   "source": [
    "worst_grades = grades[\"Score\"].nsmallest(10).index"
   ]
  },
  {
   "cell_type": "code",
   "execution_count": 61,
   "metadata": {},
   "outputs": [
    {
     "data": {
      "text/html": [
       "<div>\n",
       "<style scoped>\n",
       "    .dataframe tbody tr th:only-of-type {\n",
       "        vertical-align: middle;\n",
       "    }\n",
       "\n",
       "    .dataframe tbody tr th {\n",
       "        vertical-align: top;\n",
       "    }\n",
       "\n",
       "    .dataframe thead th {\n",
       "        text-align: right;\n",
       "    }\n",
       "</style>\n",
       "<table border=\"1\" class=\"dataframe\">\n",
       "  <thead>\n",
       "    <tr style=\"text-align: right;\">\n",
       "      <th></th>\n",
       "      <th>ModuleCode</th>\n",
       "      <th>ModuleName</th>\n",
       "      <th>ModuleType</th>\n",
       "      <th>AssessmentName</th>\n",
       "      <th>DueDate</th>\n",
       "      <th>AssessmentType</th>\n",
       "      <th>SubmissionType</th>\n",
       "      <th>Score</th>\n",
       "      <th>CreditsWeight</th>\n",
       "      <th>Submitted</th>\n",
       "      <th>Comments</th>\n",
       "      <th>NumberCreditsEarned</th>\n",
       "    </tr>\n",
       "  </thead>\n",
       "  <tbody>\n",
       "    <tr>\n",
       "      <th>44</th>\n",
       "      <td>CS2012</td>\n",
       "      <td>Web Development</td>\n",
       "      <td>Computer Science</td>\n",
       "      <td>Class Test</td>\n",
       "      <td>2021-12-03 11:30:00</td>\n",
       "      <td>Exam</td>\n",
       "      <td>Quiz</td>\n",
       "      <td>45</td>\n",
       "      <td>25</td>\n",
       "      <td>2021-12-03 10:16:00</td>\n",
       "      <td>NaN</td>\n",
       "      <td>11.25</td>\n",
       "    </tr>\n",
       "    <tr>\n",
       "      <th>6</th>\n",
       "      <td>CS1111</td>\n",
       "      <td>Systems Organisation</td>\n",
       "      <td>Computer Science</td>\n",
       "      <td>Class Test</td>\n",
       "      <td>2020-12-17 16:00:00</td>\n",
       "      <td>Exam</td>\n",
       "      <td>Written</td>\n",
       "      <td>50</td>\n",
       "      <td>40</td>\n",
       "      <td>2020-12-17 15:44:00</td>\n",
       "      <td>NaN</td>\n",
       "      <td>20.00</td>\n",
       "    </tr>\n",
       "    <tr>\n",
       "      <th>38</th>\n",
       "      <td>AP1035</td>\n",
       "      <td>Neuroscience, Attention &amp; Perception</td>\n",
       "      <td>Psychology</td>\n",
       "      <td>Essay 1</td>\n",
       "      <td>2021-05-04 18:00:00</td>\n",
       "      <td>CA</td>\n",
       "      <td>Written</td>\n",
       "      <td>52</td>\n",
       "      <td>50</td>\n",
       "      <td>2021-05-04 12:21:00</td>\n",
       "      <td>NaN</td>\n",
       "      <td>26.00</td>\n",
       "    </tr>\n",
       "    <tr>\n",
       "      <th>40</th>\n",
       "      <td>AP1022</td>\n",
       "      <td>Social Psychology</td>\n",
       "      <td>Psychology</td>\n",
       "      <td>Essay</td>\n",
       "      <td>2021-04-30 15:00:00</td>\n",
       "      <td>CA</td>\n",
       "      <td>Written</td>\n",
       "      <td>62</td>\n",
       "      <td>100</td>\n",
       "      <td>2021-04-30 10:32:00</td>\n",
       "      <td>NaN</td>\n",
       "      <td>62.00</td>\n",
       "    </tr>\n",
       "    <tr>\n",
       "      <th>39</th>\n",
       "      <td>AP1035</td>\n",
       "      <td>Neuroscience, Attention &amp; Perception</td>\n",
       "      <td>Psychology</td>\n",
       "      <td>Essay 2</td>\n",
       "      <td>2021-05-04 18:00:00</td>\n",
       "      <td>CA</td>\n",
       "      <td>Written</td>\n",
       "      <td>62</td>\n",
       "      <td>50</td>\n",
       "      <td>2021-05-04 12:21:00</td>\n",
       "      <td>NaN</td>\n",
       "      <td>31.00</td>\n",
       "    </tr>\n",
       "    <tr>\n",
       "      <th>52</th>\n",
       "      <td>AP2044</td>\n",
       "      <td>Applied Cognition</td>\n",
       "      <td>Psychology</td>\n",
       "      <td>Written Exam</td>\n",
       "      <td>2021-12-15 18:36:00</td>\n",
       "      <td>Exam</td>\n",
       "      <td>Written</td>\n",
       "      <td>65</td>\n",
       "      <td>100</td>\n",
       "      <td>2021-12-15 18:02:00</td>\n",
       "      <td>NaN</td>\n",
       "      <td>65.00</td>\n",
       "    </tr>\n",
       "    <tr>\n",
       "      <th>31</th>\n",
       "      <td>AP1046</td>\n",
       "      <td>People &amp; Technology</td>\n",
       "      <td>Psychology</td>\n",
       "      <td>Assignment 2</td>\n",
       "      <td>2020-12-14 11:00:00</td>\n",
       "      <td>CA</td>\n",
       "      <td>Written</td>\n",
       "      <td>68</td>\n",
       "      <td>50</td>\n",
       "      <td>2020-12-11 09:58:00</td>\n",
       "      <td>NaN</td>\n",
       "      <td>34.00</td>\n",
       "    </tr>\n",
       "    <tr>\n",
       "      <th>53</th>\n",
       "      <td>AP2114</td>\n",
       "      <td>Research Methods in Psychology II</td>\n",
       "      <td>Psychology</td>\n",
       "      <td>Assignment 1: Thematic Analysis</td>\n",
       "      <td>2021-10-12 11:00:00</td>\n",
       "      <td>CA</td>\n",
       "      <td>Written</td>\n",
       "      <td>68</td>\n",
       "      <td>50</td>\n",
       "      <td>2021-10-12 07:30:00</td>\n",
       "      <td>NaN</td>\n",
       "      <td>34.00</td>\n",
       "    </tr>\n",
       "    <tr>\n",
       "      <th>49</th>\n",
       "      <td>AP2046</td>\n",
       "      <td>Experimental Design and Statistical Applicatio...</td>\n",
       "      <td>Statistics</td>\n",
       "      <td>Practical Report</td>\n",
       "      <td>2021-12-13 11:00:00</td>\n",
       "      <td>CA</td>\n",
       "      <td>Written</td>\n",
       "      <td>68</td>\n",
       "      <td>50</td>\n",
       "      <td>2021-12-12 11:25:00</td>\n",
       "      <td>NaN</td>\n",
       "      <td>34.00</td>\n",
       "    </tr>\n",
       "    <tr>\n",
       "      <th>51</th>\n",
       "      <td>AP2045</td>\n",
       "      <td>Psychology of Childhood and Adolescence</td>\n",
       "      <td>Psychology</td>\n",
       "      <td>Essay</td>\n",
       "      <td>2021-12-21 11:00:00</td>\n",
       "      <td>CA</td>\n",
       "      <td>Written</td>\n",
       "      <td>68</td>\n",
       "      <td>100</td>\n",
       "      <td>2021-12-21 05:21:00</td>\n",
       "      <td>NaN</td>\n",
       "      <td>68.00</td>\n",
       "    </tr>\n",
       "  </tbody>\n",
       "</table>\n",
       "</div>"
      ],
      "text/plain": [
       "   ModuleCode                                         ModuleName  \\\n",
       "44     CS2012                                    Web Development   \n",
       "6      CS1111                               Systems Organisation   \n",
       "38     AP1035               Neuroscience, Attention & Perception   \n",
       "40     AP1022                                  Social Psychology   \n",
       "39     AP1035               Neuroscience, Attention & Perception   \n",
       "52     AP2044                                  Applied Cognition   \n",
       "31     AP1046                                People & Technology   \n",
       "53     AP2114                  Research Methods in Psychology II   \n",
       "49     AP2046  Experimental Design and Statistical Applicatio...   \n",
       "51     AP2045            Psychology of Childhood and Adolescence   \n",
       "\n",
       "          ModuleType                   AssessmentName             DueDate  \\\n",
       "44  Computer Science                       Class Test 2021-12-03 11:30:00   \n",
       "6   Computer Science                       Class Test 2020-12-17 16:00:00   \n",
       "38        Psychology                          Essay 1 2021-05-04 18:00:00   \n",
       "40        Psychology                            Essay 2021-04-30 15:00:00   \n",
       "39        Psychology                          Essay 2 2021-05-04 18:00:00   \n",
       "52        Psychology                     Written Exam 2021-12-15 18:36:00   \n",
       "31        Psychology                     Assignment 2 2020-12-14 11:00:00   \n",
       "53        Psychology  Assignment 1: Thematic Analysis 2021-10-12 11:00:00   \n",
       "49        Statistics                 Practical Report 2021-12-13 11:00:00   \n",
       "51        Psychology                            Essay 2021-12-21 11:00:00   \n",
       "\n",
       "   AssessmentType SubmissionType  Score  CreditsWeight           Submitted  \\\n",
       "44           Exam           Quiz     45             25 2021-12-03 10:16:00   \n",
       "6            Exam        Written     50             40 2020-12-17 15:44:00   \n",
       "38             CA        Written     52             50 2021-05-04 12:21:00   \n",
       "40             CA        Written     62            100 2021-04-30 10:32:00   \n",
       "39             CA        Written     62             50 2021-05-04 12:21:00   \n",
       "52           Exam        Written     65            100 2021-12-15 18:02:00   \n",
       "31             CA        Written     68             50 2020-12-11 09:58:00   \n",
       "53             CA        Written     68             50 2021-10-12 07:30:00   \n",
       "49             CA        Written     68             50 2021-12-12 11:25:00   \n",
       "51             CA        Written     68            100 2021-12-21 05:21:00   \n",
       "\n",
       "   Comments  NumberCreditsEarned  \n",
       "44      NaN                11.25  \n",
       "6       NaN                20.00  \n",
       "38      NaN                26.00  \n",
       "40      NaN                62.00  \n",
       "39      NaN                31.00  \n",
       "52      NaN                65.00  \n",
       "31      NaN                34.00  \n",
       "53      NaN                34.00  \n",
       "49      NaN                34.00  \n",
       "51      NaN                68.00  "
      ]
     },
     "execution_count": 61,
     "metadata": {},
     "output_type": "execute_result"
    }
   ],
   "source": [
    "grades.loc[worst_grades]"
   ]
  },
  {
   "cell_type": "markdown",
   "metadata": {},
   "source": [
    "With the exception of two computer science assessments (both of which were exams) it appears overall psychology is my weakest area. But let's confirm this."
   ]
  },
  {
   "cell_type": "code",
   "execution_count": 62,
   "metadata": {},
   "outputs": [],
   "source": [
    "grades[\"ModuleType\"] = grades[\"ModuleType\"].astype(\"category\")\n",
    "grades[\"AssessmentType\"] = grades[\"AssessmentType\"].astype(\"category\")\n",
    "grades[\"SubmissionType\"] = grades[\"SubmissionType\"].astype(\"category\")"
   ]
  },
  {
   "cell_type": "code",
   "execution_count": 63,
   "metadata": {},
   "outputs": [
    {
     "data": {
      "text/plain": [
       "ModuleType\n",
       "Psychology          72.437500\n",
       "UX                  75.000000\n",
       "Statistics          85.000000\n",
       "Computer Science    88.827586\n",
       "Name: Score, dtype: float64"
      ]
     },
     "execution_count": 63,
     "metadata": {},
     "output_type": "execute_result"
    }
   ],
   "source": [
    "grades.groupby(\"ModuleType\")[\"Score\"].mean().sort_values()"
   ]
  },
  {
   "cell_type": "code",
   "execution_count": 64,
   "metadata": {},
   "outputs": [
    {
     "data": {
      "text/plain": [
       "AssessmentType\n",
       "Exam    71.625000\n",
       "CA      84.530612\n",
       "Name: Score, dtype: float64"
      ]
     },
     "execution_count": 64,
     "metadata": {},
     "output_type": "execute_result"
    }
   ],
   "source": [
    "grades.groupby(\"AssessmentType\")[\"Score\"].mean().sort_values()"
   ]
  },
  {
   "cell_type": "code",
   "execution_count": 65,
   "metadata": {},
   "outputs": [
    {
     "data": {
      "text/plain": [
       "SubmissionType\n",
       "Written         74.240000\n",
       "Quiz            81.428571\n",
       "Presentation    84.000000\n",
       "Programming     91.875000\n",
       "Name: Score, dtype: float64"
      ]
     },
     "execution_count": 65,
     "metadata": {},
     "output_type": "execute_result"
    }
   ],
   "source": [
    "grades.groupby(\"SubmissionType\")[\"Score\"].mean().sort_values()"
   ]
  },
  {
   "cell_type": "markdown",
   "metadata": {},
   "source": [
    "Based on this analysis. Written psychology exams are the weak spot. Not surprising really. \n",
    "Practical computer science continuous assessments are the strongest. 💪🏻\n",
    "\n",
    "I just submitted a python assignment. What mark can I hope to get on average based on previous python modules?"
   ]
  },
  {
   "cell_type": "code",
   "execution_count": 66,
   "metadata": {},
   "outputs": [],
   "source": [
    "python_modules = grades[\"ModuleName\"].isin([\"Introduction to Programming & Problem-Solving\",\"Intermediate Programming & Problem-Solving I\"])"
   ]
  },
  {
   "cell_type": "code",
   "execution_count": 67,
   "metadata": {},
   "outputs": [
    {
     "data": {
      "text/plain": [
       "87.92"
      ]
     },
     "execution_count": 67,
     "metadata": {},
     "output_type": "execute_result"
    }
   ],
   "source": [
    "round(grades[python_modules][\"NumberCreditsEarned\"].sum() / grades[python_modules][\"CreditsWeight\"].sum() * 100,2)"
   ]
  },
  {
   "cell_type": "markdown",
   "metadata": {},
   "source": [
    "Answer: about 88%"
   ]
  },
  {
   "cell_type": "markdown",
   "metadata": {},
   "source": [
    "# Building the Logistic Regression Model\n",
    "\n",
    "Let's see if we can build a model to predict future grades.\n",
    "\n",
    "First we need to deal with some of the categorical values by turning them into dummy variables making sure to deal with multicollinearity and scale the variables."
   ]
  },
  {
   "cell_type": "code",
   "execution_count": 68,
   "metadata": {},
   "outputs": [],
   "source": [
    "from sklearn.preprocessing import StandardScaler\n",
    "from sklearn.datasets import make_classification\n",
    "from sklearn.linear_model import LogisticRegression\n",
    "from sklearn.model_selection import train_test_split\n",
    "from sklearn.pipeline import make_pipeline\n",
    "from sklearn.preprocessing import StandardScaler\n",
    "from sklearn.metrics import classification_report\n",
    "from tensorflow import keras"
   ]
  },
  {
   "cell_type": "code",
   "execution_count": 69,
   "metadata": {},
   "outputs": [],
   "source": [
    "cat_features = [\"ModuleType\",\"AssessmentType\",\"SubmissionType\"]\n",
    "grades_dummies = pd.get_dummies(grades, columns=cat_features, drop_first=True)"
   ]
  },
  {
   "cell_type": "code",
   "execution_count": 70,
   "metadata": {},
   "outputs": [],
   "source": [
    "X = grades_dummies[['CreditsWeight','ModuleType_Psychology', 'ModuleType_Statistics', 'ModuleType_UX','AssessmentType_Exam', 'SubmissionType_Programming', 'SubmissionType_Quiz', 'SubmissionType_Written']]\n",
    "y = grades_dummies['Score']"
   ]
  },
  {
   "cell_type": "code",
   "execution_count": 71,
   "metadata": {},
   "outputs": [
    {
     "data": {
      "text/plain": [
       "Pipeline(steps=[('standardscaler', StandardScaler()),\n",
       "                ('logisticregression', LogisticRegression())])"
      ]
     },
     "execution_count": 71,
     "metadata": {},
     "output_type": "execute_result"
    }
   ],
   "source": [
    "X_train, X_test, y_train, y_test = train_test_split(X, y,test_size=0.3, random_state=28)\n",
    "pipe = make_pipeline(StandardScaler(), LogisticRegression())\n",
    "pipe.fit(X_train, y_train)  "
   ]
  },
  {
   "cell_type": "code",
   "execution_count": 72,
   "metadata": {},
   "outputs": [],
   "source": [
    "predictions = pipe.predict(X_test)"
   ]
  },
  {
   "cell_type": "markdown",
   "metadata": {},
   "source": [
    "As we can see below the model did a pretty terrible job of predicting correctly from the data provided. Using categorical values to predict a numerical output means theres a lot of noise. For my purposes 100% accuracy is not neccessary. A ball park figure is good enough to take action on."
   ]
  },
  {
   "cell_type": "code",
   "execution_count": 73,
   "metadata": {},
   "outputs": [
    {
     "name": "stdout",
     "output_type": "stream",
     "text": [
      "              precision    recall  f1-score   support\n",
      "\n",
      "          50       0.00      0.00      0.00         1\n",
      "          62       0.00      0.00      0.00         1\n",
      "          68       0.50      1.00      0.67         2\n",
      "          71       0.00      0.00      0.00         2\n",
      "          73       0.00      0.00      0.00         1\n",
      "          74       0.00      0.00      0.00         0\n",
      "          77       0.00      0.00      0.00         1\n",
      "          78       0.00      0.00      0.00         0\n",
      "          80       1.00      1.00      1.00         1\n",
      "          81       0.00      0.00      0.00         2\n",
      "          83       0.00      0.00      0.00         1\n",
      "          84       0.00      0.00      0.00         1\n",
      "          85       1.00      1.00      1.00         1\n",
      "          87       0.00      0.00      0.00         1\n",
      "          88       0.00      0.00      0.00         0\n",
      "          90       0.00      0.00      0.00         1\n",
      "          97       0.00      0.00      0.00         0\n",
      "         100       0.67      1.00      0.80         2\n",
      "\n",
      "    accuracy                           0.33        18\n",
      "   macro avg       0.18      0.22      0.19        18\n",
      "weighted avg       0.24      0.33      0.27        18\n",
      "\n"
     ]
    }
   ],
   "source": [
    "print(classification_report(y_test,predictions, zero_division=0))"
   ]
  },
  {
   "cell_type": "markdown",
   "metadata": {},
   "source": [
    "# How Will Semester 2 Go?"
   ]
  },
  {
   "cell_type": "code",
   "execution_count": 74,
   "metadata": {},
   "outputs": [],
   "source": [
    "semester_2 = pd.read_csv(\"semester2.csv\")"
   ]
  },
  {
   "cell_type": "code",
   "execution_count": 75,
   "metadata": {},
   "outputs": [],
   "source": [
    "semester_2_dummies = pd.get_dummies(semester_2, columns=cat_features)"
   ]
  },
  {
   "cell_type": "code",
   "execution_count": 76,
   "metadata": {},
   "outputs": [],
   "source": [
    "predicted_grades = semester_2_dummies[['CreditsWeight','ModuleType_Psychology', 'ModuleType_Statistics', 'ModuleType_UX','AssessmentType_Exam', 'SubmissionType_Programming', 'SubmissionType_Quiz', 'SubmissionType_Written']]\n",
    "semester_2['Predicted'] = pipe.predict(predicted_grades)"
   ]
  },
  {
   "cell_type": "markdown",
   "metadata": {},
   "source": [
    "These are the assignments most likely to give me trouble this semester."
   ]
  },
  {
   "cell_type": "code",
   "execution_count": 77,
   "metadata": {},
   "outputs": [
    {
     "data": {
      "text/html": [
       "<div>\n",
       "<style scoped>\n",
       "    .dataframe tbody tr th:only-of-type {\n",
       "        vertical-align: middle;\n",
       "    }\n",
       "\n",
       "    .dataframe tbody tr th {\n",
       "        vertical-align: top;\n",
       "    }\n",
       "\n",
       "    .dataframe thead th {\n",
       "        text-align: right;\n",
       "    }\n",
       "</style>\n",
       "<table border=\"1\" class=\"dataframe\">\n",
       "  <thead>\n",
       "    <tr style=\"text-align: right;\">\n",
       "      <th></th>\n",
       "      <th>ModuleName</th>\n",
       "      <th>AssessmentName</th>\n",
       "      <th>Predicted</th>\n",
       "    </tr>\n",
       "  </thead>\n",
       "  <tbody>\n",
       "    <tr>\n",
       "      <th>1</th>\n",
       "      <td>Learning &amp; Behaviour</td>\n",
       "      <td>MCQ</td>\n",
       "      <td>45</td>\n",
       "    </tr>\n",
       "    <tr>\n",
       "      <th>0</th>\n",
       "      <td>Learning &amp; Behaviour</td>\n",
       "      <td>Essay</td>\n",
       "      <td>68</td>\n",
       "    </tr>\n",
       "    <tr>\n",
       "      <th>2</th>\n",
       "      <td>Research Methods in Psychology II</td>\n",
       "      <td>Prac 4 Experiment</td>\n",
       "      <td>68</td>\n",
       "    </tr>\n",
       "    <tr>\n",
       "      <th>3</th>\n",
       "      <td>Research Methods in Psychology II</td>\n",
       "      <td>Prac 5 Research Proposal</td>\n",
       "      <td>68</td>\n",
       "    </tr>\n",
       "    <tr>\n",
       "      <th>5</th>\n",
       "      <td>Social Computing</td>\n",
       "      <td>Blogs</td>\n",
       "      <td>68</td>\n",
       "    </tr>\n",
       "    <tr>\n",
       "      <th>6</th>\n",
       "      <td>Social Computing</td>\n",
       "      <td>Social Analysis Report</td>\n",
       "      <td>68</td>\n",
       "    </tr>\n",
       "    <tr>\n",
       "      <th>11</th>\n",
       "      <td>Design for Human Centred Computing</td>\n",
       "      <td>Project Assignment 1</td>\n",
       "      <td>74</td>\n",
       "    </tr>\n",
       "  </tbody>\n",
       "</table>\n",
       "</div>"
      ],
      "text/plain": [
       "                            ModuleName            AssessmentName  Predicted\n",
       "1                 Learning & Behaviour                       MCQ         45\n",
       "0                 Learning & Behaviour                     Essay         68\n",
       "2    Research Methods in Psychology II         Prac 4 Experiment         68\n",
       "3    Research Methods in Psychology II  Prac 5 Research Proposal         68\n",
       "5                     Social Computing                     Blogs         68\n",
       "6                     Social Computing    Social Analysis Report         68\n",
       "11  Design for Human Centred Computing      Project Assignment 1         74"
      ]
     },
     "execution_count": 77,
     "metadata": {},
     "output_type": "execute_result"
    }
   ],
   "source": [
    "semester_2[[\"ModuleName\",\"AssessmentName\", \"Predicted\"]].sort_values(\"Predicted\").head(7)"
   ]
  },
  {
   "cell_type": "code",
   "execution_count": 78,
   "metadata": {},
   "outputs": [
    {
     "data": {
      "text/plain": [
       "73.0"
      ]
     },
     "execution_count": 78,
     "metadata": {},
     "output_type": "execute_result"
    }
   ],
   "source": [
    "semester_2[\"PredictedCreditsEarned\"] = semester_2[\"CreditsWeight\"] * (semester_2[\"Predicted\"] / 100)\n",
    "round(semester_2[\"PredictedCreditsEarned\"].sum() / semester_2[\"CreditsWeight\"].sum(),2) * 100"
   ]
  },
  {
   "cell_type": "markdown",
   "metadata": {},
   "source": [
    "According to the model I should get an average grade of 73%\n",
    "\n",
    "Although I am a little surprised by the prediction for the Learning & Behavior MCQ"
   ]
  },
  {
   "cell_type": "code",
   "execution_count": 79,
   "metadata": {},
   "outputs": [
    {
     "data": {
      "text/html": [
       "<div>\n",
       "<style scoped>\n",
       "    .dataframe tbody tr th:only-of-type {\n",
       "        vertical-align: middle;\n",
       "    }\n",
       "\n",
       "    .dataframe tbody tr th {\n",
       "        vertical-align: top;\n",
       "    }\n",
       "\n",
       "    .dataframe thead th {\n",
       "        text-align: right;\n",
       "    }\n",
       "</style>\n",
       "<table border=\"1\" class=\"dataframe\">\n",
       "  <thead>\n",
       "    <tr style=\"text-align: right;\">\n",
       "      <th></th>\n",
       "      <th>ModuleName</th>\n",
       "      <th>ModuleType</th>\n",
       "      <th>AssessmentType</th>\n",
       "      <th>CreditsWeight</th>\n",
       "      <th>Score</th>\n",
       "    </tr>\n",
       "  </thead>\n",
       "  <tbody>\n",
       "    <tr>\n",
       "      <th>9</th>\n",
       "      <td>Introduction to Programming &amp; Problem-Solving</td>\n",
       "      <td>Computer Science</td>\n",
       "      <td>CA</td>\n",
       "      <td>15</td>\n",
       "      <td>85</td>\n",
       "    </tr>\n",
       "    <tr>\n",
       "      <th>10</th>\n",
       "      <td>Introduction to Programming &amp; Problem-Solving</td>\n",
       "      <td>Computer Science</td>\n",
       "      <td>CA</td>\n",
       "      <td>20</td>\n",
       "      <td>85</td>\n",
       "    </tr>\n",
       "    <tr>\n",
       "      <th>34</th>\n",
       "      <td>Research Design &amp; Statistical Analysis</td>\n",
       "      <td>Statistics</td>\n",
       "      <td>CA</td>\n",
       "      <td>10</td>\n",
       "      <td>85</td>\n",
       "    </tr>\n",
       "    <tr>\n",
       "      <th>35</th>\n",
       "      <td>Research Design &amp; Statistical Analysis</td>\n",
       "      <td>Statistics</td>\n",
       "      <td>CA</td>\n",
       "      <td>10</td>\n",
       "      <td>100</td>\n",
       "    </tr>\n",
       "    <tr>\n",
       "      <th>36</th>\n",
       "      <td>Research Design &amp; Statistical Analysis</td>\n",
       "      <td>Statistics</td>\n",
       "      <td>CA</td>\n",
       "      <td>10</td>\n",
       "      <td>90</td>\n",
       "    </tr>\n",
       "    <tr>\n",
       "      <th>44</th>\n",
       "      <td>Web Development</td>\n",
       "      <td>Computer Science</td>\n",
       "      <td>Exam</td>\n",
       "      <td>25</td>\n",
       "      <td>45</td>\n",
       "    </tr>\n",
       "    <tr>\n",
       "      <th>50</th>\n",
       "      <td>Experimental Design and Statistical Applicatio...</td>\n",
       "      <td>Statistics</td>\n",
       "      <td>Exam</td>\n",
       "      <td>50</td>\n",
       "      <td>80</td>\n",
       "    </tr>\n",
       "  </tbody>\n",
       "</table>\n",
       "</div>"
      ],
      "text/plain": [
       "                                           ModuleName        ModuleType  \\\n",
       "9       Introduction to Programming & Problem-Solving  Computer Science   \n",
       "10      Introduction to Programming & Problem-Solving  Computer Science   \n",
       "34             Research Design & Statistical Analysis        Statistics   \n",
       "35             Research Design & Statistical Analysis        Statistics   \n",
       "36             Research Design & Statistical Analysis        Statistics   \n",
       "44                                    Web Development  Computer Science   \n",
       "50  Experimental Design and Statistical Applicatio...        Statistics   \n",
       "\n",
       "   AssessmentType  CreditsWeight  Score  \n",
       "9              CA             15     85  \n",
       "10             CA             20     85  \n",
       "34             CA             10     85  \n",
       "35             CA             10    100  \n",
       "36             CA             10     90  \n",
       "44           Exam             25     45  \n",
       "50           Exam             50     80  "
      ]
     },
     "execution_count": 79,
     "metadata": {},
     "output_type": "execute_result"
    }
   ],
   "source": [
    "quizzes = grades[grades[\"SubmissionType\"] == 'Quiz']\n",
    "quizzes[[\"ModuleName\", \"ModuleType\",\"AssessmentType\",\"CreditsWeight\",\"Score\"]]"
   ]
  },
  {
   "cell_type": "markdown",
   "metadata": {},
   "source": [
    "Overall I didn't do too badly in quizzes. \n",
    "The model seems to have a lot of room for improvement and I have a lot to learn."
   ]
  },
  {
   "cell_type": "code",
   "execution_count": 80,
   "metadata": {},
   "outputs": [
    {
     "data": {
      "text/html": [
       "<div>\n",
       "<style scoped>\n",
       "    .dataframe tbody tr th:only-of-type {\n",
       "        vertical-align: middle;\n",
       "    }\n",
       "\n",
       "    .dataframe tbody tr th {\n",
       "        vertical-align: top;\n",
       "    }\n",
       "\n",
       "    .dataframe thead th {\n",
       "        text-align: right;\n",
       "    }\n",
       "</style>\n",
       "<table border=\"1\" class=\"dataframe\">\n",
       "  <thead>\n",
       "    <tr style=\"text-align: right;\">\n",
       "      <th></th>\n",
       "      <th>Predicted</th>\n",
       "    </tr>\n",
       "    <tr>\n",
       "      <th>ModuleName</th>\n",
       "      <th></th>\n",
       "    </tr>\n",
       "  </thead>\n",
       "  <tbody>\n",
       "    <tr>\n",
       "      <th>Learning &amp; Behaviour</th>\n",
       "      <td>56.500000</td>\n",
       "    </tr>\n",
       "    <tr>\n",
       "      <th>Social Computing</th>\n",
       "      <td>68.000000</td>\n",
       "    </tr>\n",
       "    <tr>\n",
       "      <th>Research Methods in Psychology II</th>\n",
       "      <td>73.666667</td>\n",
       "    </tr>\n",
       "    <tr>\n",
       "      <th>Design for Human Centred Computing</th>\n",
       "      <td>74.000000</td>\n",
       "    </tr>\n",
       "    <tr>\n",
       "      <th>Intermediate Programming &amp; Problem Solving II</th>\n",
       "      <td>96.250000</td>\n",
       "    </tr>\n",
       "  </tbody>\n",
       "</table>\n",
       "</div>"
      ],
      "text/plain": [
       "                                               Predicted\n",
       "ModuleName                                              \n",
       "Learning & Behaviour                           56.500000\n",
       "Social Computing                               68.000000\n",
       "Research Methods in Psychology II              73.666667\n",
       "Design for Human Centred Computing             74.000000\n",
       "Intermediate Programming & Problem Solving II  96.250000"
      ]
     },
     "execution_count": 80,
     "metadata": {},
     "output_type": "execute_result"
    }
   ],
   "source": [
    "semester_2[[\"ModuleName\",\"Predicted\"]].groupby(\"ModuleName\").mean().sort_values(\"Predicted\")"
   ]
  },
  {
   "cell_type": "markdown",
   "metadata": {},
   "source": [
    "## Conclusion\n",
    "I know Dr Linehan can be a tough marker. I'll put a little extra attention in Learning & Behavior. My intuition about psychology versus computer science seems to be right and this semesters focus on more written psychology will make it just that little bit harder than last semester. But I am ready for it."
   ]
  },
  {
   "cell_type": "markdown",
   "metadata": {},
   "source": [
    "## Update\n",
    "since developing the model, I have gotten some results back.\n",
    "Let's see how well the model performed.\n",
    "\n",
    "* For Research Methods in Psychology II - Prac 4 Experiment, the model predicted as score of 68%.\n",
    "Actual result: 78%"
   ]
  },
  {
   "cell_type": "code",
   "execution_count": null,
   "metadata": {},
   "outputs": [],
   "source": []
  },
  {
   "cell_type": "markdown",
   "metadata": {},
   "source": [
    "# Neural Net\n",
    "Let's see if a neural net performs any better"
   ]
  },
  {
   "cell_type": "code",
   "execution_count": 81,
   "metadata": {},
   "outputs": [],
   "source": [
    "X = grades_dummies[['CreditsWeight','ModuleType_Psychology', 'ModuleType_Statistics', 'ModuleType_UX','AssessmentType_Exam', 'SubmissionType_Programming', 'SubmissionType_Quiz', 'SubmissionType_Written']].values\n",
    "y = grades_dummies['Score'].values"
   ]
  },
  {
   "cell_type": "code",
   "execution_count": 82,
   "metadata": {},
   "outputs": [],
   "source": [
    "X_train, X_test, y_train, y_test = train_test_split(X, y, test_size=0.3, random_state=28)"
   ]
  },
  {
   "cell_type": "code",
   "execution_count": 83,
   "metadata": {},
   "outputs": [],
   "source": [
    "from sklearn.preprocessing import MinMaxScaler"
   ]
  },
  {
   "cell_type": "code",
   "execution_count": 84,
   "metadata": {},
   "outputs": [],
   "source": [
    "scaler = MinMaxScaler()"
   ]
  },
  {
   "cell_type": "code",
   "execution_count": 85,
   "metadata": {},
   "outputs": [
    {
     "data": {
      "text/plain": [
       "MinMaxScaler()"
      ]
     },
     "execution_count": 85,
     "metadata": {},
     "output_type": "execute_result"
    }
   ],
   "source": [
    "scaler.fit(X_train)"
   ]
  },
  {
   "cell_type": "code",
   "execution_count": 86,
   "metadata": {},
   "outputs": [],
   "source": [
    "X_train = scaler.transform(X_train)"
   ]
  },
  {
   "cell_type": "code",
   "execution_count": 87,
   "metadata": {},
   "outputs": [],
   "source": [
    "X_test = scaler.transform(X_test)"
   ]
  },
  {
   "cell_type": "code",
   "execution_count": 88,
   "metadata": {},
   "outputs": [],
   "source": [
    "from tensorflow.keras.models import Sequential\n",
    "from tensorflow.keras.layers import Dense"
   ]
  },
  {
   "cell_type": "code",
   "execution_count": 89,
   "metadata": {},
   "outputs": [],
   "source": [
    "model = Sequential()\n",
    "\n",
    "model.add(Dense(4))\n",
    "model.add(Dense(4))\n",
    "model.add(Dense(4))\n",
    "model.add(Dense(1))\n",
    "\n",
    "model.compile(optimizer='rmsprop', loss='mse')"
   ]
  },
  {
   "cell_type": "code",
   "execution_count": 90,
   "metadata": {},
   "outputs": [
    {
     "name": "stdout",
     "output_type": "stream",
     "text": [
      "Epoch 1/500\n",
      "2/2 [==============================] - 0s 1ms/step - loss: 7391.2148\n",
      "Epoch 2/500\n",
      "2/2 [==============================] - 0s 2ms/step - loss: 7382.5366\n",
      "Epoch 3/500\n",
      "2/2 [==============================] - 0s 1ms/step - loss: 7376.7446\n",
      "Epoch 4/500\n",
      "2/2 [==============================] - 0s 2ms/step - loss: 7372.0952\n",
      "Epoch 5/500\n",
      "2/2 [==============================] - 0s 2ms/step - loss: 7367.8813\n",
      "Epoch 6/500\n",
      "2/2 [==============================] - 0s 2ms/step - loss: 7364.0498\n",
      "Epoch 7/500\n",
      "2/2 [==============================] - 0s 1ms/step - loss: 7360.3828\n",
      "Epoch 8/500\n",
      "2/2 [==============================] - 0s 1ms/step - loss: 7356.6338\n",
      "Epoch 9/500\n",
      "2/2 [==============================] - 0s 2ms/step - loss: 7353.2275\n",
      "Epoch 10/500\n",
      "2/2 [==============================] - 0s 1ms/step - loss: 7349.9053\n",
      "Epoch 11/500\n",
      "2/2 [==============================] - 0s 1ms/step - loss: 7346.5273\n",
      "Epoch 12/500\n",
      "2/2 [==============================] - 0s 2ms/step - loss: 7342.9341\n",
      "Epoch 13/500\n",
      "2/2 [==============================] - 0s 2ms/step - loss: 7339.5576\n",
      "Epoch 14/500\n",
      "2/2 [==============================] - 0s 777us/step - loss: 7335.8750\n",
      "Epoch 15/500\n",
      "2/2 [==============================] - 0s 997us/step - loss: 7332.2974\n",
      "Epoch 16/500\n",
      "2/2 [==============================] - 0s 2ms/step - loss: 7328.9854\n",
      "Epoch 17/500\n",
      "2/2 [==============================] - 0s 1ms/step - loss: 7325.4463\n",
      "Epoch 18/500\n",
      "2/2 [==============================] - 0s 1000us/step - loss: 7321.5249\n",
      "Epoch 19/500\n",
      "2/2 [==============================] - 0s 1000us/step - loss: 7317.6265\n",
      "Epoch 20/500\n",
      "2/2 [==============================] - 0s 1ms/step - loss: 7313.7515\n",
      "Epoch 21/500\n",
      "2/2 [==============================] - 0s 1ms/step - loss: 7309.5562\n",
      "Epoch 22/500\n",
      "2/2 [==============================] - 0s 1ms/step - loss: 7305.4551\n",
      "Epoch 23/500\n",
      "2/2 [==============================] - 0s 2ms/step - loss: 7301.2261\n",
      "Epoch 24/500\n",
      "2/2 [==============================] - 0s 2ms/step - loss: 7296.7437\n",
      "Epoch 25/500\n",
      "2/2 [==============================] - 0s 2ms/step - loss: 7292.2266\n",
      "Epoch 26/500\n",
      "2/2 [==============================] - 0s 1ms/step - loss: 7287.8735\n",
      "Epoch 27/500\n",
      "2/2 [==============================] - 0s 996us/step - loss: 7283.6040\n",
      "Epoch 28/500\n",
      "2/2 [==============================] - 0s 1ms/step - loss: 7278.8540\n",
      "Epoch 29/500\n",
      "2/2 [==============================] - 0s 998us/step - loss: 7274.0625\n",
      "Epoch 30/500\n",
      "2/2 [==============================] - 0s 1ms/step - loss: 7269.3403\n",
      "Epoch 31/500\n",
      "2/2 [==============================] - 0s 1000us/step - loss: 7264.2090\n",
      "Epoch 32/500\n",
      "2/2 [==============================] - 0s 1ms/step - loss: 7258.9336\n",
      "Epoch 33/500\n",
      "2/2 [==============================] - 0s 1ms/step - loss: 7253.9487\n",
      "Epoch 34/500\n",
      "2/2 [==============================] - 0s 1ms/step - loss: 7248.5649\n",
      "Epoch 35/500\n",
      "2/2 [==============================] - 0s 999us/step - loss: 7243.2827\n",
      "Epoch 36/500\n",
      "2/2 [==============================] - 0s 999us/step - loss: 7237.8960\n",
      "Epoch 37/500\n",
      "2/2 [==============================] - 0s 1ms/step - loss: 7232.1216\n",
      "Epoch 38/500\n",
      "2/2 [==============================] - 0s 1ms/step - loss: 7226.4985\n",
      "Epoch 39/500\n",
      "2/2 [==============================] - 0s 1ms/step - loss: 7220.8853\n",
      "Epoch 40/500\n",
      "2/2 [==============================] - 0s 998us/step - loss: 7214.4565\n",
      "Epoch 41/500\n",
      "2/2 [==============================] - 0s 1ms/step - loss: 7208.2075\n",
      "Epoch 42/500\n",
      "2/2 [==============================] - 0s 2ms/step - loss: 7202.2900\n",
      "Epoch 43/500\n",
      "2/2 [==============================] - 0s 2ms/step - loss: 7195.9609\n",
      "Epoch 44/500\n",
      "2/2 [==============================] - 0s 1ms/step - loss: 7189.7451\n",
      "Epoch 45/500\n",
      "2/2 [==============================] - 0s 1000us/step - loss: 7182.8076\n",
      "Epoch 46/500\n",
      "2/2 [==============================] - 0s 1ms/step - loss: 7176.2314\n",
      "Epoch 47/500\n",
      "2/2 [==============================] - 0s 998us/step - loss: 7169.3936\n",
      "Epoch 48/500\n",
      "2/2 [==============================] - 0s 997us/step - loss: 7162.8589\n",
      "Epoch 49/500\n",
      "2/2 [==============================] - 0s 1000us/step - loss: 7156.0151\n",
      "Epoch 50/500\n",
      "2/2 [==============================] - 0s 1ms/step - loss: 7148.4751\n",
      "Epoch 51/500\n",
      "2/2 [==============================] - 0s 2ms/step - loss: 7140.9302\n",
      "Epoch 52/500\n",
      "2/2 [==============================] - 0s 1ms/step - loss: 7133.2446\n",
      "Epoch 53/500\n",
      "2/2 [==============================] - 0s 762us/step - loss: 7125.3823\n",
      "Epoch 54/500\n",
      "2/2 [==============================] - 0s 1ms/step - loss: 7117.9287\n",
      "Epoch 55/500\n",
      "2/2 [==============================] - 0s 999us/step - loss: 7109.8872\n",
      "Epoch 56/500\n",
      "2/2 [==============================] - 0s 999us/step - loss: 7101.2300\n",
      "Epoch 57/500\n",
      "2/2 [==============================] - 0s 1000us/step - loss: 7092.7402\n",
      "Epoch 58/500\n",
      "2/2 [==============================] - 0s 997us/step - loss: 7084.4175\n",
      "Epoch 59/500\n",
      "2/2 [==============================] - 0s 1ms/step - loss: 7075.7163\n",
      "Epoch 60/500\n",
      "2/2 [==============================] - 0s 999us/step - loss: 7066.7612\n",
      "Epoch 61/500\n",
      "2/2 [==============================] - 0s 1ms/step - loss: 7057.1523\n",
      "Epoch 62/500\n",
      "2/2 [==============================] - 0s 997us/step - loss: 7047.8525\n",
      "Epoch 63/500\n",
      "2/2 [==============================] - 0s 1ms/step - loss: 7038.5527\n",
      "Epoch 64/500\n",
      "2/2 [==============================] - 0s 996us/step - loss: 7029.0513\n",
      "Epoch 65/500\n",
      "2/2 [==============================] - 0s 2ms/step - loss: 7019.3110\n",
      "Epoch 66/500\n",
      "2/2 [==============================] - 0s 2ms/step - loss: 7009.5322\n",
      "Epoch 67/500\n",
      "2/2 [==============================] - 0s 1ms/step - loss: 6999.7637\n",
      "Epoch 68/500\n",
      "2/2 [==============================] - 0s 1000us/step - loss: 6989.4526\n",
      "Epoch 69/500\n",
      "2/2 [==============================] - 0s 1ms/step - loss: 6978.9648\n",
      "Epoch 70/500\n",
      "2/2 [==============================] - 0s 999us/step - loss: 6968.1201\n",
      "Epoch 71/500\n",
      "2/2 [==============================] - 0s 997us/step - loss: 6956.8359\n",
      "Epoch 72/500\n",
      "2/2 [==============================] - 0s 990us/step - loss: 6945.4673\n",
      "Epoch 73/500\n",
      "2/2 [==============================] - 0s 997us/step - loss: 6933.6938\n",
      "Epoch 74/500\n",
      "2/2 [==============================] - 0s 1ms/step - loss: 6921.7388\n",
      "Epoch 75/500\n",
      "2/2 [==============================] - 0s 1ms/step - loss: 6909.6313\n",
      "Epoch 76/500\n",
      "2/2 [==============================] - 0s 1ms/step - loss: 6897.8916\n",
      "Epoch 77/500\n",
      "2/2 [==============================] - 0s 1ms/step - loss: 6885.9878\n",
      "Epoch 78/500\n",
      "2/2 [==============================] - 0s 1ms/step - loss: 6873.2085\n",
      "Epoch 79/500\n",
      "2/2 [==============================] - 0s 2ms/step - loss: 6860.7812\n",
      "Epoch 80/500\n",
      "2/2 [==============================] - 0s 1ms/step - loss: 6847.7148\n",
      "Epoch 81/500\n",
      "2/2 [==============================] - 0s 1ms/step - loss: 6835.2959\n",
      "Epoch 82/500\n",
      "2/2 [==============================] - 0s 1ms/step - loss: 6822.1475\n",
      "Epoch 83/500\n",
      "2/2 [==============================] - 0s 996us/step - loss: 6809.3799\n",
      "Epoch 84/500\n",
      "2/2 [==============================] - 0s 1ms/step - loss: 6796.2676\n",
      "Epoch 85/500\n",
      "2/2 [==============================] - 0s 1ms/step - loss: 6783.0298\n",
      "Epoch 86/500\n",
      "2/2 [==============================] - 0s 998us/step - loss: 6769.5303\n",
      "Epoch 87/500\n",
      "2/2 [==============================] - 0s 997us/step - loss: 6754.8223\n",
      "Epoch 88/500\n",
      "2/2 [==============================] - 0s 1ms/step - loss: 6740.2241\n",
      "Epoch 89/500\n",
      "2/2 [==============================] - 0s 997us/step - loss: 6725.4751\n",
      "Epoch 90/500\n",
      "2/2 [==============================] - 0s 997us/step - loss: 6710.2041\n",
      "Epoch 91/500\n",
      "2/2 [==============================] - 0s 1ms/step - loss: 6695.7349\n",
      "Epoch 92/500\n",
      "2/2 [==============================] - 0s 1ms/step - loss: 6680.5161\n",
      "Epoch 93/500\n",
      "2/2 [==============================] - 0s 2ms/step - loss: 6665.5698\n",
      "Epoch 94/500\n",
      "2/2 [==============================] - 0s 771us/step - loss: 6650.7949\n",
      "Epoch 95/500\n",
      "2/2 [==============================] - 0s 1ms/step - loss: 6634.6353\n",
      "Epoch 96/500\n",
      "2/2 [==============================] - 0s 1ms/step - loss: 6618.4478\n",
      "Epoch 97/500\n",
      "2/2 [==============================] - 0s 1ms/step - loss: 6601.8633\n",
      "Epoch 98/500\n",
      "2/2 [==============================] - 0s 999us/step - loss: 6585.3574\n",
      "Epoch 99/500\n",
      "2/2 [==============================] - 0s 1000us/step - loss: 6568.3423\n",
      "Epoch 100/500\n"
     ]
    },
    {
     "name": "stdout",
     "output_type": "stream",
     "text": [
      "2/2 [==============================] - 0s 1ms/step - loss: 6551.3530\n",
      "Epoch 101/500\n",
      "2/2 [==============================] - 0s 1ms/step - loss: 6533.9131\n",
      "Epoch 102/500\n",
      "2/2 [==============================] - 0s 998us/step - loss: 6516.3057\n",
      "Epoch 103/500\n",
      "2/2 [==============================] - 0s 996us/step - loss: 6498.9883\n",
      "Epoch 104/500\n",
      "2/2 [==============================] - 0s 999us/step - loss: 6481.1353\n",
      "Epoch 105/500\n",
      "2/2 [==============================] - 0s 999us/step - loss: 6462.9463\n",
      "Epoch 106/500\n",
      "2/2 [==============================] - 0s 2ms/step - loss: 6444.1851\n",
      "Epoch 107/500\n",
      "2/2 [==============================] - 0s 1ms/step - loss: 6425.5591\n",
      "Epoch 108/500\n",
      "2/2 [==============================] - 0s 999us/step - loss: 6407.1323\n",
      "Epoch 109/500\n",
      "2/2 [==============================] - 0s 1ms/step - loss: 6388.8101\n",
      "Epoch 110/500\n",
      "2/2 [==============================] - 0s 998us/step - loss: 6369.1919\n",
      "Epoch 111/500\n",
      "2/2 [==============================] - 0s 1ms/step - loss: 6349.3662\n",
      "Epoch 112/500\n",
      "2/2 [==============================] - 0s 1ms/step - loss: 6330.1274\n",
      "Epoch 113/500\n",
      "2/2 [==============================] - 0s 727us/step - loss: 6310.7407\n",
      "Epoch 114/500\n",
      "2/2 [==============================] - 0s 1ms/step - loss: 6291.5278\n",
      "Epoch 115/500\n",
      "2/2 [==============================] - 0s 1ms/step - loss: 6270.9692\n",
      "Epoch 116/500\n",
      "2/2 [==============================] - 0s 1000us/step - loss: 6250.1616\n",
      "Epoch 117/500\n",
      "2/2 [==============================] - 0s 997us/step - loss: 6229.0923\n",
      "Epoch 118/500\n",
      "2/2 [==============================] - 0s 1ms/step - loss: 6208.0068\n",
      "Epoch 119/500\n",
      "2/2 [==============================] - 0s 998us/step - loss: 6185.7236\n",
      "Epoch 120/500\n",
      "2/2 [==============================] - 0s 1000us/step - loss: 6163.2500\n",
      "Epoch 121/500\n",
      "2/2 [==============================] - 0s 1ms/step - loss: 6141.5576\n",
      "Epoch 122/500\n",
      "2/2 [==============================] - 0s 512us/step - loss: 6119.5894\n",
      "Epoch 123/500\n",
      "2/2 [==============================] - 0s 990us/step - loss: 6097.0312\n",
      "Epoch 124/500\n",
      "2/2 [==============================] - 0s 1ms/step - loss: 6075.0449\n",
      "Epoch 125/500\n",
      "2/2 [==============================] - 0s 1ms/step - loss: 6052.9834\n",
      "Epoch 126/500\n",
      "2/2 [==============================] - 0s 989us/step - loss: 6029.5166\n",
      "Epoch 127/500\n",
      "2/2 [==============================] - 0s 1ms/step - loss: 6006.0376\n",
      "Epoch 128/500\n",
      "2/2 [==============================] - 0s 1ms/step - loss: 5982.7554\n",
      "Epoch 129/500\n",
      "2/2 [==============================] - 0s 1ms/step - loss: 5958.6328\n",
      "Epoch 130/500\n",
      "2/2 [==============================] - 0s 1ms/step - loss: 5935.0078\n",
      "Epoch 131/500\n",
      "2/2 [==============================] - 0s 1ms/step - loss: 5911.5649\n",
      "Epoch 132/500\n",
      "2/2 [==============================] - 0s 997us/step - loss: 5886.6372\n",
      "Epoch 133/500\n",
      "2/2 [==============================] - 0s 999us/step - loss: 5861.1177\n",
      "Epoch 134/500\n",
      "2/2 [==============================] - 0s 1ms/step - loss: 5835.2632\n",
      "Epoch 135/500\n",
      "2/2 [==============================] - 0s 1ms/step - loss: 5809.4927\n",
      "Epoch 136/500\n",
      "2/2 [==============================] - 0s 1ms/step - loss: 5783.2720\n",
      "Epoch 137/500\n",
      "2/2 [==============================] - 0s 2ms/step - loss: 5756.9839\n",
      "Epoch 138/500\n",
      "2/2 [==============================] - 0s 1ms/step - loss: 5730.4429\n",
      "Epoch 139/500\n",
      "2/2 [==============================] - 0s 1ms/step - loss: 5704.1602\n",
      "Epoch 140/500\n",
      "2/2 [==============================] - 0s 1ms/step - loss: 5677.1211\n",
      "Epoch 141/500\n",
      "2/2 [==============================] - 0s 1ms/step - loss: 5650.1899\n",
      "Epoch 142/500\n",
      "2/2 [==============================] - 0s 1000us/step - loss: 5622.2266\n",
      "Epoch 143/500\n",
      "2/2 [==============================] - 0s 1ms/step - loss: 5595.0210\n",
      "Epoch 144/500\n",
      "2/2 [==============================] - 0s 1ms/step - loss: 5566.9458\n",
      "Epoch 145/500\n",
      "2/2 [==============================] - 0s 1ms/step - loss: 5538.3804\n",
      "Epoch 146/500\n",
      "2/2 [==============================] - 0s 1ms/step - loss: 5509.6885\n",
      "Epoch 147/500\n",
      "2/2 [==============================] - 0s 765us/step - loss: 5480.4419\n",
      "Epoch 148/500\n",
      "2/2 [==============================] - 0s 998us/step - loss: 5451.7124\n",
      "Epoch 149/500\n",
      "2/2 [==============================] - 0s 2ms/step - loss: 5423.9771\n",
      "Epoch 150/500\n",
      "2/2 [==============================] - 0s 1ms/step - loss: 5394.1895\n",
      "Epoch 151/500\n",
      "2/2 [==============================] - 0s 996us/step - loss: 5364.4834\n",
      "Epoch 152/500\n",
      "2/2 [==============================] - 0s 1ms/step - loss: 5334.4980\n",
      "Epoch 153/500\n",
      "2/2 [==============================] - 0s 1ms/step - loss: 5304.5742\n",
      "Epoch 154/500\n",
      "2/2 [==============================] - 0s 1ms/step - loss: 5275.4360\n",
      "Epoch 155/500\n",
      "2/2 [==============================] - 0s 1ms/step - loss: 5245.3403\n",
      "Epoch 156/500\n",
      "2/2 [==============================] - 0s 1ms/step - loss: 5215.6162\n",
      "Epoch 157/500\n",
      "2/2 [==============================] - 0s 999us/step - loss: 5184.0635\n",
      "Epoch 158/500\n",
      "2/2 [==============================] - 0s 999us/step - loss: 5152.8887\n",
      "Epoch 159/500\n",
      "2/2 [==============================] - 0s 999us/step - loss: 5121.0771\n",
      "Epoch 160/500\n",
      "2/2 [==============================] - 0s 999us/step - loss: 5089.0801\n",
      "Epoch 161/500\n",
      "2/2 [==============================] - 0s 997us/step - loss: 5056.6201\n",
      "Epoch 162/500\n",
      "2/2 [==============================] - 0s 802us/step - loss: 5023.6689\n",
      "Epoch 163/500\n",
      "2/2 [==============================] - 0s 1ms/step - loss: 4991.9902\n",
      "Epoch 164/500\n",
      "2/2 [==============================] - 0s 1ms/step - loss: 4958.4058\n",
      "Epoch 165/500\n",
      "2/2 [==============================] - 0s 1ms/step - loss: 4924.7290\n",
      "Epoch 166/500\n",
      "2/2 [==============================] - 0s 1ms/step - loss: 4891.5977\n",
      "Epoch 167/500\n",
      "2/2 [==============================] - 0s 1ms/step - loss: 4857.3364\n",
      "Epoch 168/500\n",
      "2/2 [==============================] - 0s 998us/step - loss: 4824.5269\n",
      "Epoch 169/500\n",
      "2/2 [==============================] - 0s 1000us/step - loss: 4791.7822\n",
      "Epoch 170/500\n",
      "2/2 [==============================] - 0s 1ms/step - loss: 4757.7739\n",
      "Epoch 171/500\n",
      "2/2 [==============================] - 0s 2ms/step - loss: 4725.3755\n",
      "Epoch 172/500\n",
      "2/2 [==============================] - 0s 2ms/step - loss: 4690.9028\n",
      "Epoch 173/500\n",
      "2/2 [==============================] - 0s 501us/step - loss: 4656.4502\n",
      "Epoch 174/500\n",
      "2/2 [==============================] - 0s 1ms/step - loss: 4621.5479\n",
      "Epoch 175/500\n",
      "2/2 [==============================] - 0s 998us/step - loss: 4586.8989\n",
      "Epoch 176/500\n",
      "2/2 [==============================] - 0s 1ms/step - loss: 4551.9839\n",
      "Epoch 177/500\n",
      "2/2 [==============================] - 0s 1000us/step - loss: 4516.9395\n",
      "Epoch 178/500\n",
      "2/2 [==============================] - 0s 996us/step - loss: 4480.6108\n",
      "Epoch 179/500\n",
      "2/2 [==============================] - 0s 998us/step - loss: 4444.6001\n",
      "Epoch 180/500\n",
      "2/2 [==============================] - 0s 1ms/step - loss: 4407.6860\n",
      "Epoch 181/500\n",
      "2/2 [==============================] - 0s 2ms/step - loss: 4370.0293\n",
      "Epoch 182/500\n",
      "2/2 [==============================] - 0s 996us/step - loss: 4333.3940\n",
      "Epoch 183/500\n",
      "2/2 [==============================] - 0s 998us/step - loss: 4295.5874\n",
      "Epoch 184/500\n",
      "2/2 [==============================] - 0s 998us/step - loss: 4257.9946\n",
      "Epoch 185/500\n",
      "2/2 [==============================] - 0s 1ms/step - loss: 4220.2979\n",
      "Epoch 186/500\n",
      "2/2 [==============================] - 0s 2ms/step - loss: 4184.0571\n",
      "Epoch 187/500\n",
      "2/2 [==============================] - 0s 1000us/step - loss: 4147.7461\n",
      "Epoch 188/500\n",
      "2/2 [==============================] - 0s 996us/step - loss: 4110.7886\n",
      "Epoch 189/500\n",
      "2/2 [==============================] - 0s 1ms/step - loss: 4073.4399\n",
      "Epoch 190/500\n",
      "2/2 [==============================] - 0s 1ms/step - loss: 4034.8643\n",
      "Epoch 191/500\n",
      "2/2 [==============================] - 0s 999us/step - loss: 3995.5312\n",
      "Epoch 192/500\n",
      "2/2 [==============================] - 0s 2ms/step - loss: 3957.7473\n",
      "Epoch 193/500\n",
      "2/2 [==============================] - 0s 998us/step - loss: 3919.1018\n",
      "Epoch 194/500\n",
      "2/2 [==============================] - 0s 1ms/step - loss: 3880.9336\n",
      "Epoch 195/500\n",
      "2/2 [==============================] - 0s 1ms/step - loss: 3839.9500\n",
      "Epoch 196/500\n",
      "2/2 [==============================] - 0s 998us/step - loss: 3800.8525\n",
      "Epoch 197/500\n"
     ]
    },
    {
     "name": "stdout",
     "output_type": "stream",
     "text": [
      "2/2 [==============================] - 0s 1ms/step - loss: 3761.9863\n",
      "Epoch 198/500\n",
      "2/2 [==============================] - 0s 997us/step - loss: 3722.2212\n",
      "Epoch 199/500\n",
      "2/2 [==============================] - 0s 1ms/step - loss: 3683.6106\n",
      "Epoch 200/500\n",
      "2/2 [==============================] - 0s 1ms/step - loss: 3644.3149\n",
      "Epoch 201/500\n",
      "2/2 [==============================] - 0s 1ms/step - loss: 3605.1868\n",
      "Epoch 202/500\n",
      "2/2 [==============================] - 0s 1ms/step - loss: 3565.1589\n",
      "Epoch 203/500\n",
      "2/2 [==============================] - 0s 1ms/step - loss: 3525.3833\n",
      "Epoch 204/500\n",
      "2/2 [==============================] - 0s 1ms/step - loss: 3483.8462\n",
      "Epoch 205/500\n",
      "2/2 [==============================] - 0s 998us/step - loss: 3443.3330\n",
      "Epoch 206/500\n",
      "2/2 [==============================] - 0s 998us/step - loss: 3402.8501\n",
      "Epoch 207/500\n",
      "2/2 [==============================] - 0s 1ms/step - loss: 3363.7495\n",
      "Epoch 208/500\n",
      "2/2 [==============================] - 0s 1ms/step - loss: 3324.1562\n",
      "Epoch 209/500\n",
      "2/2 [==============================] - 0s 1ms/step - loss: 3285.1467\n",
      "Epoch 210/500\n",
      "2/2 [==============================] - 0s 2ms/step - loss: 3244.4683\n",
      "Epoch 211/500\n",
      "2/2 [==============================] - 0s 2ms/step - loss: 3205.7571\n",
      "Epoch 212/500\n",
      "2/2 [==============================] - 0s 1ms/step - loss: 3168.7964\n",
      "Epoch 213/500\n",
      "2/2 [==============================] - 0s 1ms/step - loss: 3130.2437\n",
      "Epoch 214/500\n",
      "2/2 [==============================] - 0s 1ms/step - loss: 3089.0671\n",
      "Epoch 215/500\n",
      "2/2 [==============================] - 0s 997us/step - loss: 3050.0427\n",
      "Epoch 216/500\n",
      "2/2 [==============================] - 0s 871us/step - loss: 3009.5725\n",
      "Epoch 217/500\n",
      "2/2 [==============================] - 0s 998us/step - loss: 2970.1980\n",
      "Epoch 218/500\n",
      "2/2 [==============================] - 0s 1ms/step - loss: 2930.2512\n",
      "Epoch 219/500\n",
      "2/2 [==============================] - 0s 1ms/step - loss: 2889.9180\n",
      "Epoch 220/500\n",
      "2/2 [==============================] - 0s 750us/step - loss: 2849.9993\n",
      "Epoch 221/500\n",
      "2/2 [==============================] - 0s 999us/step - loss: 2810.3530\n",
      "Epoch 222/500\n",
      "2/2 [==============================] - 0s 1ms/step - loss: 2769.6802\n",
      "Epoch 223/500\n",
      "2/2 [==============================] - 0s 1ms/step - loss: 2728.2937\n",
      "Epoch 224/500\n",
      "2/2 [==============================] - 0s 800us/step - loss: 2688.6265\n",
      "Epoch 225/500\n",
      "2/2 [==============================] - 0s 1ms/step - loss: 2647.4448\n",
      "Epoch 226/500\n",
      "2/2 [==============================] - 0s 995us/step - loss: 2605.2065\n",
      "Epoch 227/500\n",
      "2/2 [==============================] - 0s 2ms/step - loss: 2564.9905\n",
      "Epoch 228/500\n",
      "2/2 [==============================] - 0s 1ms/step - loss: 2525.5229\n",
      "Epoch 229/500\n",
      "2/2 [==============================] - 0s 2ms/step - loss: 2483.7427\n",
      "Epoch 230/500\n",
      "2/2 [==============================] - 0s 1ms/step - loss: 2441.7410\n",
      "Epoch 231/500\n",
      "2/2 [==============================] - 0s 2ms/step - loss: 2402.2136\n",
      "Epoch 232/500\n",
      "2/2 [==============================] - 0s 998us/step - loss: 2364.6013\n",
      "Epoch 233/500\n",
      "2/2 [==============================] - 0s 1ms/step - loss: 2327.0369\n",
      "Epoch 234/500\n",
      "2/2 [==============================] - 0s 999us/step - loss: 2287.3049\n",
      "Epoch 235/500\n",
      "2/2 [==============================] - 0s 1000us/step - loss: 2248.4226\n",
      "Epoch 236/500\n",
      "2/2 [==============================] - 0s 1ms/step - loss: 2208.0798\n",
      "Epoch 237/500\n",
      "2/2 [==============================] - 0s 1ms/step - loss: 2169.0801\n",
      "Epoch 238/500\n",
      "2/2 [==============================] - 0s 2ms/step - loss: 2129.8054\n",
      "Epoch 239/500\n",
      "2/2 [==============================] - 0s 998us/step - loss: 2092.1218\n",
      "Epoch 240/500\n",
      "2/2 [==============================] - 0s 1ms/step - loss: 2054.4072\n",
      "Epoch 241/500\n",
      "2/2 [==============================] - 0s 2ms/step - loss: 2017.1575\n",
      "Epoch 242/500\n",
      "2/2 [==============================] - 0s 1ms/step - loss: 1979.4065\n",
      "Epoch 243/500\n",
      "2/2 [==============================] - 0s 1ms/step - loss: 1941.1871\n",
      "Epoch 244/500\n",
      "2/2 [==============================] - 0s 778us/step - loss: 1901.7787\n",
      "Epoch 245/500\n",
      "2/2 [==============================] - 0s 979us/step - loss: 1863.9335\n",
      "Epoch 246/500\n",
      "2/2 [==============================] - 0s 2ms/step - loss: 1828.0591\n",
      "Epoch 247/500\n",
      "2/2 [==============================] - 0s 1ms/step - loss: 1790.0428\n",
      "Epoch 248/500\n",
      "2/2 [==============================] - 0s 2ms/step - loss: 1751.2156\n",
      "Epoch 249/500\n",
      "2/2 [==============================] - 0s 1ms/step - loss: 1714.4651\n",
      "Epoch 250/500\n",
      "2/2 [==============================] - 0s 1ms/step - loss: 1676.5204\n",
      "Epoch 251/500\n",
      "2/2 [==============================] - 0s 668us/step - loss: 1639.4022\n",
      "Epoch 252/500\n",
      "2/2 [==============================] - 0s 1ms/step - loss: 1604.4451\n",
      "Epoch 253/500\n",
      "2/2 [==============================] - 0s 2ms/step - loss: 1568.1813\n",
      "Epoch 254/500\n",
      "2/2 [==============================] - 0s 1ms/step - loss: 1531.3746\n",
      "Epoch 255/500\n",
      "2/2 [==============================] - 0s 2ms/step - loss: 1496.3105\n",
      "Epoch 256/500\n",
      "2/2 [==============================] - 0s 1ms/step - loss: 1464.6119\n",
      "Epoch 257/500\n",
      "2/2 [==============================] - 0s 1ms/step - loss: 1432.9169\n",
      "Epoch 258/500\n",
      "2/2 [==============================] - 0s 998us/step - loss: 1401.8765\n",
      "Epoch 259/500\n",
      "2/2 [==============================] - 0s 1ms/step - loss: 1367.6873\n",
      "Epoch 260/500\n",
      "2/2 [==============================] - 0s 1ms/step - loss: 1332.5094\n",
      "Epoch 261/500\n",
      "2/2 [==============================] - 0s 1ms/step - loss: 1297.6835\n",
      "Epoch 262/500\n",
      "2/2 [==============================] - 0s 998us/step - loss: 1266.5272\n",
      "Epoch 263/500\n",
      "2/2 [==============================] - 0s 1ms/step - loss: 1232.6340\n",
      "Epoch 264/500\n",
      "2/2 [==============================] - 0s 1ms/step - loss: 1201.1869\n",
      "Epoch 265/500\n",
      "2/2 [==============================] - 0s 998us/step - loss: 1168.7816\n",
      "Epoch 266/500\n",
      "2/2 [==============================] - 0s 1ms/step - loss: 1138.2069\n",
      "Epoch 267/500\n",
      "2/2 [==============================] - 0s 1ms/step - loss: 1110.8147\n",
      "Epoch 268/500\n",
      "2/2 [==============================] - 0s 1000us/step - loss: 1085.0177\n",
      "Epoch 269/500\n",
      "2/2 [==============================] - 0s 997us/step - loss: 1059.8582\n",
      "Epoch 270/500\n",
      "2/2 [==============================] - 0s 1ms/step - loss: 1028.8699\n",
      "Epoch 271/500\n",
      "2/2 [==============================] - 0s 997us/step - loss: 1003.7289\n",
      "Epoch 272/500\n",
      "2/2 [==============================] - 0s 1ms/step - loss: 975.6072\n",
      "Epoch 273/500\n",
      "2/2 [==============================] - 0s 2ms/step - loss: 950.3447\n",
      "Epoch 274/500\n",
      "2/2 [==============================] - 0s 1ms/step - loss: 924.5617\n",
      "Epoch 275/500\n",
      "2/2 [==============================] - 0s 1ms/step - loss: 896.7613\n",
      "Epoch 276/500\n",
      "2/2 [==============================] - 0s 742us/step - loss: 872.6760\n",
      "Epoch 277/500\n",
      "2/2 [==============================] - 0s 497us/step - loss: 845.7969\n",
      "Epoch 278/500\n",
      "2/2 [==============================] - 0s 994us/step - loss: 824.3110\n",
      "Epoch 279/500\n",
      "2/2 [==============================] - 0s 1ms/step - loss: 806.8411\n",
      "Epoch 280/500\n",
      "2/2 [==============================] - 0s 1ms/step - loss: 785.1250\n",
      "Epoch 281/500\n",
      "2/2 [==============================] - 0s 999us/step - loss: 761.8276\n",
      "Epoch 282/500\n",
      "2/2 [==============================] - 0s 1ms/step - loss: 740.3731\n",
      "Epoch 283/500\n",
      "2/2 [==============================] - 0s 998us/step - loss: 721.4046\n",
      "Epoch 284/500\n",
      "2/2 [==============================] - 0s 996us/step - loss: 702.0131\n",
      "Epoch 285/500\n",
      "2/2 [==============================] - 0s 2ms/step - loss: 682.6650\n",
      "Epoch 286/500\n",
      "2/2 [==============================] - 0s 1ms/step - loss: 663.0438\n",
      "Epoch 287/500\n",
      "2/2 [==============================] - 0s 761us/step - loss: 644.4086\n",
      "Epoch 288/500\n",
      "2/2 [==============================] - 0s 2ms/step - loss: 622.1959\n",
      "Epoch 289/500\n",
      "2/2 [==============================] - 0s 1ms/step - loss: 603.9317\n",
      "Epoch 290/500\n",
      "2/2 [==============================] - 0s 2ms/step - loss: 588.2916\n",
      "Epoch 291/500\n",
      "2/2 [==============================] - 0s 1ms/step - loss: 572.1544\n",
      "Epoch 292/500\n",
      "2/2 [==============================] - 0s 1ms/step - loss: 558.3000\n",
      "Epoch 293/500\n",
      "2/2 [==============================] - 0s 1ms/step - loss: 540.8880\n",
      "Epoch 294/500\n",
      "2/2 [==============================] - 0s 1ms/step - loss: 522.8198\n",
      "Epoch 295/500\n"
     ]
    },
    {
     "name": "stdout",
     "output_type": "stream",
     "text": [
      "2/2 [==============================] - 0s 1000us/step - loss: 508.4770\n",
      "Epoch 296/500\n",
      "2/2 [==============================] - 0s 1ms/step - loss: 494.8238\n",
      "Epoch 297/500\n",
      "2/2 [==============================] - 0s 999us/step - loss: 483.8246\n",
      "Epoch 298/500\n",
      "2/2 [==============================] - 0s 1ms/step - loss: 471.0645\n",
      "Epoch 299/500\n",
      "2/2 [==============================] - 0s 2ms/step - loss: 462.0648\n",
      "Epoch 300/500\n",
      "2/2 [==============================] - 0s 998us/step - loss: 449.2664\n",
      "Epoch 301/500\n",
      "2/2 [==============================] - 0s 2ms/step - loss: 437.1606\n",
      "Epoch 302/500\n",
      "2/2 [==============================] - 0s 999us/step - loss: 428.0474\n",
      "Epoch 303/500\n",
      "2/2 [==============================] - 0s 997us/step - loss: 418.6169\n",
      "Epoch 304/500\n",
      "2/2 [==============================] - 0s 1ms/step - loss: 408.2322\n",
      "Epoch 305/500\n",
      "2/2 [==============================] - 0s 1ms/step - loss: 397.2865\n",
      "Epoch 306/500\n",
      "2/2 [==============================] - 0s 1ms/step - loss: 386.2133\n",
      "Epoch 307/500\n",
      "2/2 [==============================] - 0s 993us/step - loss: 377.8624\n",
      "Epoch 308/500\n",
      "2/2 [==============================] - 0s 1ms/step - loss: 370.7743\n",
      "Epoch 309/500\n",
      "2/2 [==============================] - 0s 997us/step - loss: 361.7605\n",
      "Epoch 310/500\n",
      "2/2 [==============================] - 0s 499us/step - loss: 352.8045\n",
      "Epoch 311/500\n",
      "2/2 [==============================] - 0s 998us/step - loss: 346.2757\n",
      "Epoch 312/500\n",
      "2/2 [==============================] - 0s 997us/step - loss: 340.3194\n",
      "Epoch 313/500\n",
      "2/2 [==============================] - 0s 997us/step - loss: 333.8756\n",
      "Epoch 314/500\n",
      "2/2 [==============================] - 0s 999us/step - loss: 329.7686\n",
      "Epoch 315/500\n",
      "2/2 [==============================] - 0s 1000us/step - loss: 324.8050\n",
      "Epoch 316/500\n",
      "2/2 [==============================] - 0s 1000us/step - loss: 317.6062\n",
      "Epoch 317/500\n",
      "2/2 [==============================] - 0s 501us/step - loss: 313.7733\n",
      "Epoch 318/500\n",
      "2/2 [==============================] - 0s 1000us/step - loss: 310.4544\n",
      "Epoch 319/500\n",
      "2/2 [==============================] - 0s 1ms/step - loss: 305.4811\n",
      "Epoch 320/500\n",
      "2/2 [==============================] - 0s 995us/step - loss: 302.5703\n",
      "Epoch 321/500\n",
      "2/2 [==============================] - 0s 1ms/step - loss: 299.8957\n",
      "Epoch 322/500\n",
      "2/2 [==============================] - 0s 1ms/step - loss: 296.0484\n",
      "Epoch 323/500\n",
      "2/2 [==============================] - 0s 1ms/step - loss: 291.4713\n",
      "Epoch 324/500\n",
      "2/2 [==============================] - 0s 1ms/step - loss: 288.7327\n",
      "Epoch 325/500\n",
      "2/2 [==============================] - 0s 2ms/step - loss: 286.8532\n",
      "Epoch 326/500\n",
      "2/2 [==============================] - 0s 999us/step - loss: 283.9121\n",
      "Epoch 327/500\n",
      "2/2 [==============================] - 0s 1ms/step - loss: 280.8039\n",
      "Epoch 328/500\n",
      "2/2 [==============================] - 0s 999us/step - loss: 278.1945\n",
      "Epoch 329/500\n",
      "2/2 [==============================] - 0s 498us/step - loss: 275.0276\n",
      "Epoch 330/500\n",
      "2/2 [==============================] - 0s 998us/step - loss: 271.4829\n",
      "Epoch 331/500\n",
      "2/2 [==============================] - 0s 1ms/step - loss: 268.0210\n",
      "Epoch 332/500\n",
      "2/2 [==============================] - 0s 1ms/step - loss: 264.3917\n",
      "Epoch 333/500\n",
      "2/2 [==============================] - 0s 1ms/step - loss: 261.6086\n",
      "Epoch 334/500\n",
      "2/2 [==============================] - 0s 1ms/step - loss: 258.4216\n",
      "Epoch 335/500\n",
      "2/2 [==============================] - 0s 2ms/step - loss: 255.8151\n",
      "Epoch 336/500\n",
      "2/2 [==============================] - 0s 2ms/step - loss: 253.5810\n",
      "Epoch 337/500\n",
      "2/2 [==============================] - 0s 999us/step - loss: 250.8807\n",
      "Epoch 338/500\n",
      "2/2 [==============================] - 0s 2ms/step - loss: 247.2349\n",
      "Epoch 339/500\n",
      "2/2 [==============================] - 0s 2ms/step - loss: 245.5269\n",
      "Epoch 340/500\n",
      "2/2 [==============================] - 0s 2ms/step - loss: 243.1394\n",
      "Epoch 341/500\n",
      "2/2 [==============================] - 0s 2ms/step - loss: 241.5645\n",
      "Epoch 342/500\n",
      "2/2 [==============================] - 0s 995us/step - loss: 239.1915\n",
      "Epoch 343/500\n",
      "2/2 [==============================] - 0s 1ms/step - loss: 236.2111\n",
      "Epoch 344/500\n",
      "2/2 [==============================] - 0s 997us/step - loss: 233.7589\n",
      "Epoch 345/500\n",
      "2/2 [==============================] - 0s 2ms/step - loss: 230.5315\n",
      "Epoch 346/500\n",
      "2/2 [==============================] - 0s 1ms/step - loss: 228.9572\n",
      "Epoch 347/500\n",
      "2/2 [==============================] - 0s 1ms/step - loss: 225.9109\n",
      "Epoch 348/500\n",
      "2/2 [==============================] - 0s 756us/step - loss: 223.3395\n",
      "Epoch 349/500\n",
      "2/2 [==============================] - 0s 1ms/step - loss: 221.4273\n",
      "Epoch 350/500\n",
      "2/2 [==============================] - 0s 1ms/step - loss: 219.1790\n",
      "Epoch 351/500\n",
      "2/2 [==============================] - 0s 1ms/step - loss: 216.0137\n",
      "Epoch 352/500\n",
      "2/2 [==============================] - 0s 1ms/step - loss: 214.1830\n",
      "Epoch 353/500\n",
      "2/2 [==============================] - 0s 1ms/step - loss: 213.1449\n",
      "Epoch 354/500\n",
      "2/2 [==============================] - 0s 1ms/step - loss: 210.9783\n",
      "Epoch 355/500\n",
      "2/2 [==============================] - 0s 1ms/step - loss: 208.8726\n",
      "Epoch 356/500\n",
      "2/2 [==============================] - 0s 1ms/step - loss: 208.8517\n",
      "Epoch 357/500\n",
      "2/2 [==============================] - 0s 999us/step - loss: 206.1600\n",
      "Epoch 358/500\n",
      "2/2 [==============================] - 0s 999us/step - loss: 203.1392\n",
      "Epoch 359/500\n",
      "2/2 [==============================] - 0s 999us/step - loss: 200.5083\n",
      "Epoch 360/500\n",
      "2/2 [==============================] - 0s 498us/step - loss: 197.8973\n",
      "Epoch 361/500\n",
      "2/2 [==============================] - 0s 999us/step - loss: 195.5540\n",
      "Epoch 362/500\n",
      "2/2 [==============================] - 0s 1ms/step - loss: 193.3534\n",
      "Epoch 363/500\n",
      "2/2 [==============================] - 0s 1ms/step - loss: 192.0462\n",
      "Epoch 364/500\n",
      "2/2 [==============================] - 0s 1ms/step - loss: 190.2606\n",
      "Epoch 365/500\n",
      "2/2 [==============================] - 0s 1ms/step - loss: 188.9905\n",
      "Epoch 366/500\n",
      "2/2 [==============================] - 0s 2ms/step - loss: 187.6773\n",
      "Epoch 367/500\n",
      "2/2 [==============================] - 0s 996us/step - loss: 186.4662\n",
      "Epoch 368/500\n",
      "2/2 [==============================] - 0s 1ms/step - loss: 184.9044\n",
      "Epoch 369/500\n",
      "2/2 [==============================] - 0s 1ms/step - loss: 182.9169\n",
      "Epoch 370/500\n",
      "2/2 [==============================] - 0s 1ms/step - loss: 180.9585\n",
      "Epoch 371/500\n",
      "2/2 [==============================] - 0s 1ms/step - loss: 178.9592\n",
      "Epoch 372/500\n",
      "2/2 [==============================] - 0s 1ms/step - loss: 177.3885\n",
      "Epoch 373/500\n",
      "2/2 [==============================] - 0s 1000us/step - loss: 175.8076\n",
      "Epoch 374/500\n",
      "2/2 [==============================] - 0s 2ms/step - loss: 173.9005\n",
      "Epoch 375/500\n",
      "2/2 [==============================] - 0s 1ms/step - loss: 172.1802\n",
      "Epoch 376/500\n",
      "2/2 [==============================] - 0s 792us/step - loss: 170.8589\n",
      "Epoch 377/500\n",
      "2/2 [==============================] - 0s 1ms/step - loss: 169.6775\n",
      "Epoch 378/500\n",
      "2/2 [==============================] - 0s 1ms/step - loss: 168.4705\n",
      "Epoch 379/500\n",
      "2/2 [==============================] - 0s 1ms/step - loss: 167.3995\n",
      "Epoch 380/500\n",
      "2/2 [==============================] - 0s 1ms/step - loss: 166.3019\n",
      "Epoch 381/500\n",
      "2/2 [==============================] - 0s 2ms/step - loss: 164.9549\n",
      "Epoch 382/500\n",
      "2/2 [==============================] - 0s 1ms/step - loss: 163.4986\n",
      "Epoch 383/500\n",
      "2/2 [==============================] - 0s 1ms/step - loss: 161.9258\n",
      "Epoch 384/500\n",
      "2/2 [==============================] - 0s 1ms/step - loss: 160.6254\n",
      "Epoch 385/500\n",
      "2/2 [==============================] - 0s 1ms/step - loss: 159.1230\n",
      "Epoch 386/500\n",
      "2/2 [==============================] - 0s 1ms/step - loss: 157.9382\n",
      "Epoch 387/500\n",
      "2/2 [==============================] - 0s 1000us/step - loss: 157.1376\n",
      "Epoch 388/500\n",
      "2/2 [==============================] - 0s 998us/step - loss: 155.2280\n",
      "Epoch 389/500\n",
      "2/2 [==============================] - 0s 1ms/step - loss: 153.5303\n",
      "Epoch 390/500\n",
      "2/2 [==============================] - 0s 996us/step - loss: 151.6499\n",
      "Epoch 391/500\n",
      "2/2 [==============================] - 0s 1ms/step - loss: 150.0962\n",
      "Epoch 392/500\n",
      "2/2 [==============================] - 0s 1ms/step - loss: 148.6097\n",
      "Epoch 393/500\n",
      "2/2 [==============================] - 0s 999us/step - loss: 147.6438\n",
      "Epoch 394/500\n"
     ]
    },
    {
     "name": "stdout",
     "output_type": "stream",
     "text": [
      "2/2 [==============================] - 0s 1ms/step - loss: 145.9825\n",
      "Epoch 395/500\n",
      "2/2 [==============================] - 0s 997us/step - loss: 144.9374\n",
      "Epoch 396/500\n",
      "2/2 [==============================] - 0s 1000us/step - loss: 143.8930\n",
      "Epoch 397/500\n",
      "2/2 [==============================] - 0s 998us/step - loss: 143.4622\n",
      "Epoch 398/500\n",
      "2/2 [==============================] - 0s 898us/step - loss: 141.7943\n",
      "Epoch 399/500\n",
      "2/2 [==============================] - 0s 1ms/step - loss: 140.8031\n",
      "Epoch 400/500\n",
      "2/2 [==============================] - 0s 999us/step - loss: 140.1422\n",
      "Epoch 401/500\n",
      "2/2 [==============================] - 0s 999us/step - loss: 140.3675\n",
      "Epoch 402/500\n",
      "2/2 [==============================] - 0s 2ms/step - loss: 139.1155\n",
      "Epoch 403/500\n",
      "2/2 [==============================] - 0s 1ms/step - loss: 138.1208\n",
      "Epoch 404/500\n",
      "2/2 [==============================] - 0s 1ms/step - loss: 136.5686\n",
      "Epoch 405/500\n",
      "2/2 [==============================] - 0s 1ms/step - loss: 135.5321\n",
      "Epoch 406/500\n",
      "2/2 [==============================] - 0s 1ms/step - loss: 134.5421\n",
      "Epoch 407/500\n",
      "2/2 [==============================] - 0s 998us/step - loss: 133.6268\n",
      "Epoch 408/500\n",
      "2/2 [==============================] - 0s 1ms/step - loss: 132.1781\n",
      "Epoch 409/500\n",
      "2/2 [==============================] - 0s 997us/step - loss: 131.2932\n",
      "Epoch 410/500\n",
      "2/2 [==============================] - 0s 996us/step - loss: 130.4620\n",
      "Epoch 411/500\n",
      "2/2 [==============================] - 0s 998us/step - loss: 129.8078\n",
      "Epoch 412/500\n",
      "2/2 [==============================] - 0s 1ms/step - loss: 129.3940\n",
      "Epoch 413/500\n",
      "2/2 [==============================] - 0s 1ms/step - loss: 128.6698\n",
      "Epoch 414/500\n",
      "2/2 [==============================] - 0s 996us/step - loss: 127.5871\n",
      "Epoch 415/500\n",
      "2/2 [==============================] - 0s 2ms/step - loss: 127.3581\n",
      "Epoch 416/500\n",
      "2/2 [==============================] - 0s 997us/step - loss: 126.5204\n",
      "Epoch 417/500\n",
      "2/2 [==============================] - 0s 708us/step - loss: 125.7699\n",
      "Epoch 418/500\n",
      "2/2 [==============================] - 0s 1ms/step - loss: 125.3602\n",
      "Epoch 419/500\n",
      "2/2 [==============================] - 0s 2ms/step - loss: 124.8196\n",
      "Epoch 420/500\n",
      "2/2 [==============================] - 0s 1ms/step - loss: 123.6291\n",
      "Epoch 421/500\n",
      "2/2 [==============================] - 0s 1ms/step - loss: 122.8300\n",
      "Epoch 422/500\n",
      "2/2 [==============================] - 0s 1000us/step - loss: 122.0355\n",
      "Epoch 423/500\n",
      "2/2 [==============================] - 0s 2ms/step - loss: 120.8556\n",
      "Epoch 424/500\n",
      "2/2 [==============================] - 0s 1ms/step - loss: 120.5745\n",
      "Epoch 425/500\n",
      "2/2 [==============================] - 0s 2ms/step - loss: 120.1247\n",
      "Epoch 426/500\n",
      "2/2 [==============================] - 0s 2ms/step - loss: 119.6938\n",
      "Epoch 427/500\n",
      "2/2 [==============================] - 0s 1ms/step - loss: 119.1051\n",
      "Epoch 428/500\n",
      "2/2 [==============================] - 0s 819us/step - loss: 118.9222\n",
      "Epoch 429/500\n",
      "2/2 [==============================] - 0s 1ms/step - loss: 118.3296\n",
      "Epoch 430/500\n",
      "2/2 [==============================] - 0s 2ms/step - loss: 117.6749\n",
      "Epoch 431/500\n",
      "2/2 [==============================] - 0s 1ms/step - loss: 117.2402\n",
      "Epoch 432/500\n",
      "2/2 [==============================] - 0s 1ms/step - loss: 116.6828\n",
      "Epoch 433/500\n",
      "2/2 [==============================] - 0s 2ms/step - loss: 116.4101\n",
      "Epoch 434/500\n",
      "2/2 [==============================] - 0s 1ms/step - loss: 115.7990\n",
      "Epoch 435/500\n",
      "2/2 [==============================] - 0s 1ms/step - loss: 115.3930\n",
      "Epoch 436/500\n",
      "2/2 [==============================] - 0s 1ms/step - loss: 115.2888\n",
      "Epoch 437/500\n",
      "2/2 [==============================] - 0s 997us/step - loss: 114.7346\n",
      "Epoch 438/500\n",
      "2/2 [==============================] - 0s 995us/step - loss: 114.2449\n",
      "Epoch 439/500\n",
      "2/2 [==============================] - 0s 999us/step - loss: 113.2193\n",
      "Epoch 440/500\n",
      "2/2 [==============================] - 0s 1ms/step - loss: 112.8290\n",
      "Epoch 441/500\n",
      "2/2 [==============================] - 0s 1ms/step - loss: 112.1918\n",
      "Epoch 442/500\n",
      "2/2 [==============================] - 0s 2ms/step - loss: 112.3424\n",
      "Epoch 443/500\n",
      "2/2 [==============================] - 0s 1ms/step - loss: 111.8254\n",
      "Epoch 444/500\n",
      "2/2 [==============================] - 0s 1ms/step - loss: 111.6672\n",
      "Epoch 445/500\n",
      "2/2 [==============================] - 0s 1ms/step - loss: 111.0019\n",
      "Epoch 446/500\n",
      "2/2 [==============================] - 0s 999us/step - loss: 110.5757\n",
      "Epoch 447/500\n",
      "2/2 [==============================] - 0s 1ms/step - loss: 110.0398\n",
      "Epoch 448/500\n",
      "2/2 [==============================] - 0s 1ms/step - loss: 109.7224\n",
      "Epoch 449/500\n",
      "2/2 [==============================] - 0s 1ms/step - loss: 109.4922\n",
      "Epoch 450/500\n",
      "2/2 [==============================] - 0s 998us/step - loss: 108.9431\n",
      "Epoch 451/500\n",
      "2/2 [==============================] - 0s 1ms/step - loss: 109.4938\n",
      "Epoch 452/500\n",
      "2/2 [==============================] - 0s 1000us/step - loss: 109.1291\n",
      "Epoch 453/500\n",
      "2/2 [==============================] - 0s 999us/step - loss: 108.0066\n",
      "Epoch 454/500\n",
      "2/2 [==============================] - 0s 2ms/step - loss: 107.3787\n",
      "Epoch 455/500\n",
      "2/2 [==============================] - 0s 1ms/step - loss: 106.9542\n",
      "Epoch 456/500\n",
      "2/2 [==============================] - 0s 998us/step - loss: 106.6776\n",
      "Epoch 457/500\n",
      "2/2 [==============================] - 0s 2ms/step - loss: 106.3758\n",
      "Epoch 458/500\n",
      "2/2 [==============================] - 0s 1ms/step - loss: 106.0960\n",
      "Epoch 459/500\n",
      "2/2 [==============================] - 0s 1ms/step - loss: 105.8891\n",
      "Epoch 460/500\n",
      "2/2 [==============================] - 0s 2ms/step - loss: 105.7636\n",
      "Epoch 461/500\n",
      "2/2 [==============================] - 0s 842us/step - loss: 104.9395\n",
      "Epoch 462/500\n",
      "2/2 [==============================] - 0s 999us/step - loss: 104.7129\n",
      "Epoch 463/500\n",
      "2/2 [==============================] - 0s 2ms/step - loss: 104.5103\n",
      "Epoch 464/500\n",
      "2/2 [==============================] - 0s 1000us/step - loss: 104.2104\n",
      "Epoch 465/500\n",
      "2/2 [==============================] - 0s 820us/step - loss: 104.0789\n",
      "Epoch 466/500\n",
      "2/2 [==============================] - 0s 1ms/step - loss: 104.4591\n",
      "Epoch 467/500\n",
      "2/2 [==============================] - 0s 1ms/step - loss: 104.2848\n",
      "Epoch 468/500\n",
      "2/2 [==============================] - 0s 1ms/step - loss: 103.6112\n",
      "Epoch 469/500\n",
      "2/2 [==============================] - 0s 1ms/step - loss: 103.2634\n",
      "Epoch 470/500\n",
      "2/2 [==============================] - 0s 771us/step - loss: 102.5100\n",
      "Epoch 471/500\n",
      "2/2 [==============================] - 0s 1ms/step - loss: 102.5972\n",
      "Epoch 472/500\n",
      "2/2 [==============================] - 0s 895us/step - loss: 102.3835\n",
      "Epoch 473/500\n",
      "2/2 [==============================] - 0s 1ms/step - loss: 102.2397\n",
      "Epoch 474/500\n",
      "2/2 [==============================] - 0s 1ms/step - loss: 101.4706\n",
      "Epoch 475/500\n",
      "2/2 [==============================] - 0s 2ms/step - loss: 100.7926\n",
      "Epoch 476/500\n",
      "2/2 [==============================] - 0s 995us/step - loss: 100.5998\n",
      "Epoch 477/500\n",
      "2/2 [==============================] - 0s 1ms/step - loss: 100.6270\n",
      "Epoch 478/500\n",
      "2/2 [==============================] - 0s 2ms/step - loss: 100.5730\n",
      "Epoch 479/500\n",
      "2/2 [==============================] - 0s 500us/step - loss: 100.3343\n",
      "Epoch 480/500\n",
      "2/2 [==============================] - 0s 823us/step - loss: 99.9262\n",
      "Epoch 481/500\n",
      "2/2 [==============================] - 0s 2ms/step - loss: 99.7372\n",
      "Epoch 482/500\n",
      "2/2 [==============================] - 0s 1ms/step - loss: 99.2688\n",
      "Epoch 483/500\n",
      "2/2 [==============================] - 0s 1ms/step - loss: 98.9861\n",
      "Epoch 484/500\n",
      "2/2 [==============================] - 0s 2ms/step - loss: 98.6997\n",
      "Epoch 485/500\n",
      "2/2 [==============================] - 0s 2ms/step - loss: 98.5330\n",
      "Epoch 486/500\n",
      "2/2 [==============================] - 0s 2ms/step - loss: 98.2975\n",
      "Epoch 487/500\n",
      "2/2 [==============================] - 0s 746us/step - loss: 98.1160\n",
      "Epoch 488/500\n",
      "2/2 [==============================] - 0s 1ms/step - loss: 97.9800\n",
      "Epoch 489/500\n",
      "2/2 [==============================] - 0s 1ms/step - loss: 97.8168\n",
      "Epoch 490/500\n",
      "2/2 [==============================] - 0s 1ms/step - loss: 97.7381\n",
      "Epoch 491/500\n",
      "2/2 [==============================] - 0s 1ms/step - loss: 97.4392\n",
      "Epoch 492/500\n",
      "2/2 [==============================] - 0s 1ms/step - loss: 97.1788\n",
      "Epoch 493/500\n"
     ]
    },
    {
     "name": "stdout",
     "output_type": "stream",
     "text": [
      "2/2 [==============================] - 0s 996us/step - loss: 97.1591\n",
      "Epoch 494/500\n",
      "2/2 [==============================] - 0s 1ms/step - loss: 96.8497\n",
      "Epoch 495/500\n",
      "2/2 [==============================] - 0s 1ms/step - loss: 96.8392\n",
      "Epoch 496/500\n",
      "2/2 [==============================] - 0s 1ms/step - loss: 96.8127\n",
      "Epoch 497/500\n",
      "2/2 [==============================] - 0s 1ms/step - loss: 96.3080\n",
      "Epoch 498/500\n",
      "2/2 [==============================] - 0s 998us/step - loss: 96.5514\n",
      "Epoch 499/500\n",
      "2/2 [==============================] - 0s 1ms/step - loss: 95.9630\n",
      "Epoch 500/500\n",
      "2/2 [==============================] - 0s 1ms/step - loss: 95.8256\n"
     ]
    },
    {
     "data": {
      "text/plain": [
       "<tensorflow.python.keras.callbacks.History at 0x19c1fac8700>"
      ]
     },
     "execution_count": 90,
     "metadata": {},
     "output_type": "execute_result"
    }
   ],
   "source": [
    "model.fit(x=X_train, y=y_train, epochs=500)"
   ]
  },
  {
   "cell_type": "code",
   "execution_count": 91,
   "metadata": {},
   "outputs": [
    {
     "data": {
      "text/plain": [
       "<AxesSubplot:>"
      ]
     },
     "execution_count": 91,
     "metadata": {},
     "output_type": "execute_result"
    },
    {
     "data": {
      "image/png": "[encoded data removed]",
      "text/plain": [
       "<Figure size 432x288 with 1 Axes>"
      ]
     },
     "metadata": {
      "needs_background": "light"
     },
     "output_type": "display_data"
    }
   ],
   "source": [
    "loss = pd.DataFrame(model.history.history)\n",
    "loss.plot()"
   ]
  },
  {
   "cell_type": "code",
   "execution_count": 92,
   "metadata": {},
   "outputs": [
    {
     "data": {
      "text/plain": [
       "264.91070556640625"
      ]
     },
     "execution_count": 92,
     "metadata": {},
     "output_type": "execute_result"
    }
   ],
   "source": [
    "model.evaluate(X_test, y_test, verbose=0)"
   ]
  },
  {
   "cell_type": "code",
   "execution_count": 93,
   "metadata": {},
   "outputs": [
    {
     "data": {
      "text/plain": [
       "95.26146697998047"
      ]
     },
     "execution_count": 93,
     "metadata": {},
     "output_type": "execute_result"
    }
   ],
   "source": [
    "model.evaluate(X_train, y_train, verbose=0)"
   ]
  },
  {
   "cell_type": "code",
   "execution_count": 94,
   "metadata": {},
   "outputs": [],
   "source": [
    "test_predictions = model.predict(X_test)"
   ]
  },
  {
   "cell_type": "code",
   "execution_count": 95,
   "metadata": {},
   "outputs": [],
   "source": [
    "test_predictions = pd.Series(test_predictions.reshape(18,))"
   ]
  },
  {
   "cell_type": "code",
   "execution_count": 96,
   "metadata": {},
   "outputs": [],
   "source": [
    "prediction_df = pd.DataFrame(y_test, columns=[\"Test True Y\"])"
   ]
  },
  {
   "cell_type": "code",
   "execution_count": 97,
   "metadata": {},
   "outputs": [],
   "source": [
    "prediction_df = pd.concat([prediction_df, test_predictions], axis=1)"
   ]
  },
  {
   "cell_type": "code",
   "execution_count": 98,
   "metadata": {},
   "outputs": [],
   "source": [
    "prediction_df.rename(columns={prediction_df.columns[1] : \"Model Predictions\"} , inplace=True)"
   ]
  },
  {
   "cell_type": "code",
   "execution_count": 99,
   "metadata": {},
   "outputs": [
    {
     "data": {
      "text/html": [
       "<div>\n",
       "<style scoped>\n",
       "    .dataframe tbody tr th:only-of-type {\n",
       "        vertical-align: middle;\n",
       "    }\n",
       "\n",
       "    .dataframe tbody tr th {\n",
       "        vertical-align: top;\n",
       "    }\n",
       "\n",
       "    .dataframe thead th {\n",
       "        text-align: right;\n",
       "    }\n",
       "</style>\n",
       "<table border=\"1\" class=\"dataframe\">\n",
       "  <thead>\n",
       "    <tr style=\"text-align: right;\">\n",
       "      <th></th>\n",
       "      <th>Test True Y</th>\n",
       "      <th>Model Predictions</th>\n",
       "    </tr>\n",
       "  </thead>\n",
       "  <tbody>\n",
       "    <tr>\n",
       "      <th>0</th>\n",
       "      <td>62</td>\n",
       "      <td>69.118309</td>\n",
       "    </tr>\n",
       "    <tr>\n",
       "      <th>1</th>\n",
       "      <td>77</td>\n",
       "      <td>65.011238</td>\n",
       "    </tr>\n",
       "    <tr>\n",
       "      <th>2</th>\n",
       "      <td>71</td>\n",
       "      <td>102.629509</td>\n",
       "    </tr>\n",
       "    <tr>\n",
       "      <th>3</th>\n",
       "      <td>50</td>\n",
       "      <td>64.497932</td>\n",
       "    </tr>\n",
       "    <tr>\n",
       "      <th>4</th>\n",
       "      <td>68</td>\n",
       "      <td>69.983032</td>\n",
       "    </tr>\n",
       "    <tr>\n",
       "      <th>5</th>\n",
       "      <td>84</td>\n",
       "      <td>50.980526</td>\n",
       "    </tr>\n",
       "    <tr>\n",
       "      <th>6</th>\n",
       "      <td>80</td>\n",
       "      <td>83.767136</td>\n",
       "    </tr>\n",
       "    <tr>\n",
       "      <th>7</th>\n",
       "      <td>100</td>\n",
       "      <td>65.357124</td>\n",
       "    </tr>\n",
       "    <tr>\n",
       "      <th>8</th>\n",
       "      <td>81</td>\n",
       "      <td>70.155975</td>\n",
       "    </tr>\n",
       "    <tr>\n",
       "      <th>9</th>\n",
       "      <td>90</td>\n",
       "      <td>84.799278</td>\n",
       "    </tr>\n",
       "    <tr>\n",
       "      <th>10</th>\n",
       "      <td>81</td>\n",
       "      <td>70.674812</td>\n",
       "    </tr>\n",
       "    <tr>\n",
       "      <th>11</th>\n",
       "      <td>85</td>\n",
       "      <td>66.272575</td>\n",
       "    </tr>\n",
       "    <tr>\n",
       "      <th>12</th>\n",
       "      <td>87</td>\n",
       "      <td>70.155975</td>\n",
       "    </tr>\n",
       "    <tr>\n",
       "      <th>13</th>\n",
       "      <td>83</td>\n",
       "      <td>93.729164</td>\n",
       "    </tr>\n",
       "    <tr>\n",
       "      <th>14</th>\n",
       "      <td>73</td>\n",
       "      <td>70.674812</td>\n",
       "    </tr>\n",
       "    <tr>\n",
       "      <th>15</th>\n",
       "      <td>100</td>\n",
       "      <td>93.659981</td>\n",
       "    </tr>\n",
       "    <tr>\n",
       "      <th>16</th>\n",
       "      <td>68</td>\n",
       "      <td>69.983032</td>\n",
       "    </tr>\n",
       "    <tr>\n",
       "      <th>17</th>\n",
       "      <td>71</td>\n",
       "      <td>73.121574</td>\n",
       "    </tr>\n",
       "  </tbody>\n",
       "</table>\n",
       "</div>"
      ],
      "text/plain": [
       "    Test True Y  Model Predictions\n",
       "0            62          69.118309\n",
       "1            77          65.011238\n",
       "2            71         102.629509\n",
       "3            50          64.497932\n",
       "4            68          69.983032\n",
       "5            84          50.980526\n",
       "6            80          83.767136\n",
       "7           100          65.357124\n",
       "8            81          70.155975\n",
       "9            90          84.799278\n",
       "10           81          70.674812\n",
       "11           85          66.272575\n",
       "12           87          70.155975\n",
       "13           83          93.729164\n",
       "14           73          70.674812\n",
       "15          100          93.659981\n",
       "16           68          69.983032\n",
       "17           71          73.121574"
      ]
     },
     "execution_count": 99,
     "metadata": {},
     "output_type": "execute_result"
    }
   ],
   "source": [
    "prediction_df"
   ]
  },
  {
   "cell_type": "code",
   "execution_count": 100,
   "metadata": {},
   "outputs": [],
   "source": [
    "from sklearn.metrics import mean_absolute_error, mean_squared_error"
   ]
  },
  {
   "cell_type": "code",
   "execution_count": 101,
   "metadata": {},
   "outputs": [
    {
     "data": {
      "text/plain": [
       "12.449299494425455"
      ]
     },
     "execution_count": 101,
     "metadata": {},
     "output_type": "execute_result"
    }
   ],
   "source": [
    "mean_absolute_error(prediction_df[\"Test True Y\"], prediction_df[\"Model Predictions\"])"
   ]
  },
  {
   "cell_type": "code",
   "execution_count": 102,
   "metadata": {},
   "outputs": [
    {
     "data": {
      "text/plain": [
       "16.27607842875782"
      ]
     },
     "execution_count": 102,
     "metadata": {},
     "output_type": "execute_result"
    }
   ],
   "source": [
    "mean_squared_error(prediction_df[\"Test True Y\"], prediction_df[\"Model Predictions\"]) **0.5"
   ]
  },
  {
   "cell_type": "code",
   "execution_count": 103,
   "metadata": {},
   "outputs": [
    {
     "name": "stderr",
     "output_type": "stream",
     "text": [
      "D:\\Anaconda\\lib\\site-packages\\sklearn\\base.py:443: UserWarning: X has feature names, but MinMaxScaler was fitted without feature names\n",
      "  warnings.warn(\n"
     ]
    }
   ],
   "source": [
    "semester2 = scaler.transform(predicted_grades)"
   ]
  },
  {
   "cell_type": "code",
   "execution_count": 104,
   "metadata": {},
   "outputs": [],
   "source": [
    "semester_2[\"Neural_Net_Predictions\"] = model.predict(semester2)"
   ]
  },
  {
   "cell_type": "code",
   "execution_count": 105,
   "metadata": {},
   "outputs": [
    {
     "data": {
      "text/html": [
       "<div>\n",
       "<style scoped>\n",
       "    .dataframe tbody tr th:only-of-type {\n",
       "        vertical-align: middle;\n",
       "    }\n",
       "\n",
       "    .dataframe tbody tr th {\n",
       "        vertical-align: top;\n",
       "    }\n",
       "\n",
       "    .dataframe thead th {\n",
       "        text-align: right;\n",
       "    }\n",
       "</style>\n",
       "<table border=\"1\" class=\"dataframe\">\n",
       "  <thead>\n",
       "    <tr style=\"text-align: right;\">\n",
       "      <th></th>\n",
       "      <th>ModuleName</th>\n",
       "      <th>AssessmentName</th>\n",
       "      <th>Predicted</th>\n",
       "      <th>Neural_Net_Predictions</th>\n",
       "    </tr>\n",
       "  </thead>\n",
       "  <tbody>\n",
       "    <tr>\n",
       "      <th>0</th>\n",
       "      <td>Learning &amp; Behaviour</td>\n",
       "      <td>Essay</td>\n",
       "      <td>68</td>\n",
       "      <td>69.983032</td>\n",
       "    </tr>\n",
       "    <tr>\n",
       "      <th>1</th>\n",
       "      <td>Learning &amp; Behaviour</td>\n",
       "      <td>MCQ</td>\n",
       "      <td>45</td>\n",
       "      <td>70.731056</td>\n",
       "    </tr>\n",
       "    <tr>\n",
       "      <th>2</th>\n",
       "      <td>Research Methods in Psychology II</td>\n",
       "      <td>Prac 4 Experiment</td>\n",
       "      <td>68</td>\n",
       "      <td>84.107491</td>\n",
       "    </tr>\n",
       "    <tr>\n",
       "      <th>3</th>\n",
       "      <td>Research Methods in Psychology II</td>\n",
       "      <td>Prac 5 Research Proposal</td>\n",
       "      <td>68</td>\n",
       "      <td>69.983032</td>\n",
       "    </tr>\n",
       "    <tr>\n",
       "      <th>4</th>\n",
       "      <td>Research Methods in Psychology II</td>\n",
       "      <td>Prac 6 Presentation</td>\n",
       "      <td>85</td>\n",
       "      <td>47.069263</td>\n",
       "    </tr>\n",
       "    <tr>\n",
       "      <th>5</th>\n",
       "      <td>Social Computing</td>\n",
       "      <td>Blogs</td>\n",
       "      <td>68</td>\n",
       "      <td>69.983032</td>\n",
       "    </tr>\n",
       "    <tr>\n",
       "      <th>6</th>\n",
       "      <td>Social Computing</td>\n",
       "      <td>Social Analysis Report</td>\n",
       "      <td>68</td>\n",
       "      <td>69.983032</td>\n",
       "    </tr>\n",
       "    <tr>\n",
       "      <th>7</th>\n",
       "      <td>Intermediate Programming &amp; Problem Solving II</td>\n",
       "      <td>Project Part 1</td>\n",
       "      <td>100</td>\n",
       "      <td>93.487045</td>\n",
       "    </tr>\n",
       "    <tr>\n",
       "      <th>8</th>\n",
       "      <td>Intermediate Programming &amp; Problem Solving II</td>\n",
       "      <td>Project Part 2</td>\n",
       "      <td>100</td>\n",
       "      <td>93.746452</td>\n",
       "    </tr>\n",
       "    <tr>\n",
       "      <th>9</th>\n",
       "      <td>Intermediate Programming &amp; Problem Solving II</td>\n",
       "      <td>Project Part 3</td>\n",
       "      <td>100</td>\n",
       "      <td>93.487045</td>\n",
       "    </tr>\n",
       "    <tr>\n",
       "      <th>10</th>\n",
       "      <td>Intermediate Programming &amp; Problem Solving II</td>\n",
       "      <td>Project Part 4</td>\n",
       "      <td>85</td>\n",
       "      <td>92.881737</td>\n",
       "    </tr>\n",
       "    <tr>\n",
       "      <th>11</th>\n",
       "      <td>Design for Human Centred Computing</td>\n",
       "      <td>Project Assignment 1</td>\n",
       "      <td>74</td>\n",
       "      <td>74.326653</td>\n",
       "    </tr>\n",
       "    <tr>\n",
       "      <th>12</th>\n",
       "      <td>Design for Human Centred Computing</td>\n",
       "      <td>Project Assignment 2</td>\n",
       "      <td>74</td>\n",
       "      <td>74.326653</td>\n",
       "    </tr>\n",
       "    <tr>\n",
       "      <th>13</th>\n",
       "      <td>Design for Human Centred Computing</td>\n",
       "      <td>Final Report</td>\n",
       "      <td>74</td>\n",
       "      <td>73.894295</td>\n",
       "    </tr>\n",
       "  </tbody>\n",
       "</table>\n",
       "</div>"
      ],
      "text/plain": [
       "                                       ModuleName            AssessmentName  \\\n",
       "0                            Learning & Behaviour                     Essay   \n",
       "1                            Learning & Behaviour                       MCQ   \n",
       "2               Research Methods in Psychology II         Prac 4 Experiment   \n",
       "3               Research Methods in Psychology II  Prac 5 Research Proposal   \n",
       "4               Research Methods in Psychology II       Prac 6 Presentation   \n",
       "5                                Social Computing                     Blogs   \n",
       "6                                Social Computing    Social Analysis Report   \n",
       "7   Intermediate Programming & Problem Solving II            Project Part 1   \n",
       "8   Intermediate Programming & Problem Solving II            Project Part 2   \n",
       "9   Intermediate Programming & Problem Solving II            Project Part 3   \n",
       "10  Intermediate Programming & Problem Solving II            Project Part 4   \n",
       "11             Design for Human Centred Computing      Project Assignment 1   \n",
       "12             Design for Human Centred Computing      Project Assignment 2   \n",
       "13             Design for Human Centred Computing              Final Report   \n",
       "\n",
       "    Predicted  Neural_Net_Predictions  \n",
       "0          68               69.983032  \n",
       "1          45               70.731056  \n",
       "2          68               84.107491  \n",
       "3          68               69.983032  \n",
       "4          85               47.069263  \n",
       "5          68               69.983032  \n",
       "6          68               69.983032  \n",
       "7         100               93.487045  \n",
       "8         100               93.746452  \n",
       "9         100               93.487045  \n",
       "10         85               92.881737  \n",
       "11         74               74.326653  \n",
       "12         74               74.326653  \n",
       "13         74               73.894295  "
      ]
     },
     "execution_count": 105,
     "metadata": {},
     "output_type": "execute_result"
    }
   ],
   "source": [
    "semester_2[[\"ModuleName\",\"AssessmentName\", \"Predicted\", \"Neural_Net_Predictions\"]]"
   ]
  },
  {
   "cell_type": "code",
   "execution_count": 109,
   "metadata": {},
   "outputs": [
    {
     "data": {
      "text/plain": [
       "74.22"
      ]
     },
     "execution_count": 109,
     "metadata": {},
     "output_type": "execute_result"
    }
   ],
   "source": [
    "round(np.average(semester_2[\"Neural_Net_Predictions\"] ,weights=semester_2[\"CreditsWeight\"]),2)"
   ]
  },
  {
   "cell_type": "code",
   "execution_count": 107,
   "metadata": {},
   "outputs": [],
   "source": [
    "from tensorflow.keras.models import load_model\n",
    "model.save(\"predict_grades.h5\")"
   ]
  },
  {
   "cell_type": "code",
   "execution_count": 108,
   "metadata": {},
   "outputs": [],
   "source": [
    "model = keras.models.load_model(\"predict_grades.h5\")"
   ]
  },
  {
   "cell_type": "markdown",
   "metadata": {},
   "source": [
    "## Update\n",
    "since developing the model, I have gotten some results back.\n",
    "Let's see how well the model performed.\n",
    "\n",
    "* For Research Methods in Psychology II - Prac 4 Experiment, the model predicted as score of 75%.\n",
    "Actual result: 78%."
   ]
  }
 ],
 "metadata": {
  "kernelspec": {
   "display_name": "Python 3 (ipykernel)",
   "language": "python",
   "name": "python3"
  },
  "language_info": {
   "codemirror_mode": {
    "name": "ipython",
    "version": 3
   },
   "file_extension": ".py",
   "mimetype": "text/x-python",
   "name": "python",
   "nbconvert_exporter": "python",
   "pygments_lexer": "ipython3",
   "version": "3.8.5"
  }
 },
 "nbformat": 4,
 "nbformat_minor": 4
}
